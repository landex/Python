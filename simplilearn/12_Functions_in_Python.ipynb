{
 "cells": [
  {
   "cell_type": "code",
   "execution_count": 22,
   "source": [
    "# Agora vamos aprender sobre funções em python\r\n",
    "# Funções são utlizadas para realizar determinadas tarefas\r\n",
    "def welcome(): #-> Definição do nome da funçao\r\n",
    "    print(\"Good Moring\")\r\n",
    "\r\n",
    "# Para chamar a função\r\n",
    "welcome()"
   ],
   "outputs": [
    {
     "output_type": "stream",
     "name": "stdout",
     "text": [
      "Good Moring\n"
     ]
    }
   ],
   "metadata": {}
  },
  {
   "cell_type": "code",
   "execution_count": 23,
   "source": [
    "# Definindo uma função que realiza a soma\r\n",
    "def add(a,b):\r\n",
    "    total=a+b\r\n",
    "    print(\"The value of a:%d and b:%d\" %(a,b))\r\n",
    "    print(\"The sum is\", total)\r\n",
    "\r\n",
    "add(22,33) #-> É necessário sempre passsar a quantidade de valores que a função espera\r\n",
    "\r\n",
    "# Mudano as variáveis e a função\r\n",
    "x=2\r\n",
    "y=3\r\n",
    "add(x,y)"
   ],
   "outputs": [
    {
     "output_type": "stream",
     "name": "stdout",
     "text": [
      "The value of a:22 and b:33\n",
      "The sum is 55\n",
      "The value of a:2 and b:3\n",
      "The sum is 5\n"
     ]
    }
   ],
   "metadata": {}
  },
  {
   "cell_type": "code",
   "execution_count": 24,
   "source": [
    "# A Função pode ter valores definidos\r\n",
    "# Desta forma se não vir a quantidade de valores não vai dar erro\r\n",
    "\r\n",
    "def add_function (x=0,y=0):\r\n",
    "    total=x+y\r\n",
    "    print(\"x:%d y:%d\" %(x,y))\r\n",
    "    print(\"The add is\", total)\r\n",
    "\r\n",
    "add_function(10)\r\n"
   ],
   "outputs": [
    {
     "output_type": "stream",
     "name": "stdout",
     "text": [
      "x:10 y:0\n",
      "The add is 10\n"
     ]
    }
   ],
   "metadata": {}
  },
  {
   "cell_type": "code",
   "execution_count": 30,
   "source": [
    "# Função com uma lista de números para somar\r\n",
    "def add_list_number (*a): #-> Não limita a quantidade de números\r\n",
    "    total = 0\r\n",
    "    for i in a: \r\n",
    "        total=total+i\r\n",
    "    print(\"The sum is\", total)\r\n",
    "\r\n",
    "add_list_number(1,3,5,7,9)\r\n",
    "add_list_number(2,4,6,8)"
   ],
   "outputs": [
    {
     "output_type": "stream",
     "name": "stdout",
     "text": [
      "The sum is 25\n",
      "The sum is 20\n"
     ]
    }
   ],
   "metadata": {}
  },
  {
   "cell_type": "code",
   "execution_count": 1,
   "source": [
    "# Função com uma lista\r\n",
    "def add_list(lst):\r\n",
    "    lst[2]=0\r\n",
    "\r\n",
    "lst=[0,1,2]\r\n",
    "print(lst)\r\n",
    "add_list(lst)\r\n",
    "print(lst)"
   ],
   "outputs": [
    {
     "output_type": "stream",
     "name": "stdout",
     "text": [
      "[0, 1, 2]\n",
      "[0, 1, 0]\n"
     ]
    }
   ],
   "metadata": {}
  },
  {
   "cell_type": "code",
   "execution_count": 37,
   "source": [
    "# Função com retorno\r\n",
    "def add(a,b):\r\n",
    "    total=a+b\r\n",
    "    return total\r\n",
    "\r\n",
    "result=add(11,22)\r\n",
    "print(result)"
   ],
   "outputs": [
    {
     "output_type": "execute_result",
     "data": {
      "text/plain": [
       "33"
      ]
     },
     "metadata": {},
     "execution_count": 37
    }
   ],
   "metadata": {}
  }
 ],
 "metadata": {
  "orig_nbformat": 4,
  "language_info": {
   "name": "python",
   "version": "3.9.6",
   "mimetype": "text/x-python",
   "codemirror_mode": {
    "name": "ipython",
    "version": 3
   },
   "pygments_lexer": "ipython3",
   "nbconvert_exporter": "python",
   "file_extension": ".py"
  },
  "kernelspec": {
   "name": "python3",
   "display_name": "Python 3.9.6 64-bit"
  },
  "interpreter": {
   "hash": "ad0535b952be1423b26732a49bfe6acbb13cf85c02af98c1eb35a3250f3735c6"
  }
 },
 "nbformat": 4,
 "nbformat_minor": 2
}