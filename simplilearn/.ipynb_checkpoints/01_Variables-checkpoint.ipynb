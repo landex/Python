{
 "cells": [
  {
   "cell_type": "code",
   "execution_count": 1,
   "id": "92b2167c-5a2f-4796-91e6-69613cd6ae1c",
   "metadata": {},
   "outputs": [
    {
     "name": "stdout",
     "output_type": "stream",
     "text": [
      "100\n"
     ]
    },
    {
     "data": {
      "text/plain": [
       "int"
      ]
     },
     "execution_count": 1,
     "metadata": {},
     "output_type": "execute_result"
    }
   ],
   "source": [
    "# Atribuição de variável simples\n",
    "x=100\n",
    "print(x)\n",
    "# Mostrando o tipo da variável\n",
    "type(x)"
   ]
  },
  {
   "cell_type": "code",
   "execution_count": 3,
   "id": "cbd5b5f9-31de-48d6-8fb0-3d11d14f63e3",
   "metadata": {},
   "outputs": [
    {
     "name": "stdout",
     "output_type": "stream",
     "text": [
      "5.88\n"
     ]
    },
    {
     "data": {
      "text/plain": [
       "float"
      ]
     },
     "execution_count": 3,
     "metadata": {},
     "output_type": "execute_result"
    }
   ],
   "source": [
    "# Variável o tipo float\n",
    "x=5.88\n",
    "print(x)\n",
    "# Mostrando que o tipo de variável é float\n",
    "type(x)"
   ]
  },
  {
   "cell_type": "code",
   "execution_count": 6,
   "id": "09a21905-9a3e-406c-854b-d8d05eee69ac",
   "metadata": {},
   "outputs": [
    {
     "name": "stdout",
     "output_type": "stream",
     "text": [
      "Olá Tudo Bem\n",
      "Hello World!!!\n"
     ]
    },
    {
     "data": {
      "text/plain": [
       "str"
      ]
     },
     "execution_count": 6,
     "metadata": {},
     "output_type": "execute_result"
    }
   ],
   "source": [
    "# Variável do tipo string\n",
    "x='Olá Tudo Bem'\n",
    "y=\"Hello World!!!\"\n",
    "print(x)\n",
    "print(y)\n",
    "# Mostrando os tipos das variáveis\n",
    "type(x)\n",
    "type(y)"
   ]
  },
  {
   "cell_type": "code",
   "execution_count": 10,
   "id": "efedb19f-d4e0-4d74-828c-c816fca599f7",
   "metadata": {},
   "outputs": [
    {
     "name": "stdout",
     "output_type": "stream",
     "text": [
      "[14, 67, 9]\n",
      "14\n",
      "9\n",
      "[14, 67, 66]\n"
     ]
    }
   ],
   "source": [
    "# Lista é uma coleção de valores\n",
    "# Abaixo temos a coleção de valores\n",
    "list=[14,67,9]\n",
    "print(list)\n",
    "# Vendo o tipo da variável, que é uma lista\n",
    "type(list)\n",
    "# Os valores da lista são armazenados em um index\n",
    "# Para imprimir o valor de acordo com o index\n",
    "print(list[0]) # Imprimindo o valor do index 0 = 14\n",
    "print(list[2]) # Imprimindo o valor do index 2 = 9\n",
    "# Trocando o valor de um index\n",
    "list[2]=66 # Indicando que no index 2 o novo valor vai ser 66 em vez de 9\n",
    "print(list)"
   ]
  },
  {
   "cell_type": "code",
   "execution_count": 12,
   "id": "3054e75a-c76b-4c7e-950b-5aac8a6899e4",
   "metadata": {},
   "outputs": [
    {
     "name": "stdout",
     "output_type": "stream",
     "text": [
      "(0, 2, 4, 6, 8)\n"
     ]
    }
   ],
   "source": [
    "# Um novo tipo de dado chamado typle\n",
    "tuple=(0,2,4,6,8) #-> Inserindo dados na tupla\n",
    "type(tuple) #-> Informando o tipo do dado que é Tuple\n",
    "print(tuple)"
   ]
  },
  {
   "cell_type": "code",
   "execution_count": 17,
   "id": "5fd7539d-1eeb-456f-ba4e-33b5574cbb06",
   "metadata": {},
   "outputs": [
    {
     "data": {
      "text/plain": [
       "_io.TextIOWrapper"
      ]
     },
     "execution_count": 17,
     "metadata": {},
     "output_type": "execute_result"
    }
   ],
   "source": [
    "# Agora vamos fazer uma operação com arquivos em python\n",
    "file=open('C:\\\\Users\\\\landi\\\\Documents\\\\Programming\\\\python\\\\simplilearn\\\\01_Variables.ipynb','r')\n",
    "# Mostrando o tipo de arquivo que neste caso é _io.TextIOWrapper\n",
    "type(file)"
   ]
  },
  {
   "cell_type": "code",
   "execution_count": 18,
   "id": "b265a1c2-5146-49b7-bd39-837bfe96011f",
   "metadata": {},
   "outputs": [
    {
     "name": "stdout",
     "output_type": "stream",
     "text": [
      "5\n",
      "10\n",
      "7\n"
     ]
    }
   ],
   "source": [
    "# Atribuição de variavel em uma lista\n",
    "(x,y,z)=5,10,7\n",
    "print(x)\n",
    "print(y)\n",
    "print(z)\n"
   ]
  },
  {
   "cell_type": "code",
   "execution_count": 19,
   "id": "b0ca1d7f-fabd-47ac-adc2-a3e604f46f1e",
   "metadata": {},
   "outputs": [
    {
     "ename": "SyntaxError",
     "evalue": "invalid syntax (Temp/ipykernel_23796/3673206908.py, line 5)",
     "output_type": "error",
     "traceback": [
      "\u001b[1;36m  File \u001b[1;32m\"C:\\Users\\landi\\AppData\\Local\\Temp/ipykernel_23796/3673206908.py\"\u001b[1;36m, line \u001b[1;32m5\u001b[0m\n\u001b[1;33m    3iii=1 #-> Não é uma variável válida\u001b[0m\n\u001b[1;37m     ^\u001b[0m\n\u001b[1;31mSyntaxError\u001b[0m\u001b[1;31m:\u001b[0m invalid syntax\n"
     ]
    }
   ],
   "source": [
    "# Definido os nomes das variáveis\n",
    "# A Variável não pode começar com número ou caracter especial, mas pode ter número a partir da segunda letra\n",
    "# Também não é bom utilizar palavras reservadas do sistema\n",
    "# As variáveis são case sensitive\n"
   ]
  },
  {
   "cell_type": "code",
   "execution_count": 27,
   "id": "1c9cc8d7-f3b7-4911-bc67-21c36080b849",
   "metadata": {},
   "outputs": [
    {
     "name": "stdout",
     "output_type": "stream",
     "text": [
      "30\n",
      "10\n",
      "200\n",
      "2.0\n",
      "2\n"
     ]
    }
   ],
   "source": [
    "# Operadores matemáticos em python\n",
    "x=20\n",
    "y=10\n",
    "\n",
    "# Soma\n",
    "result_sum=x+y\n",
    "print(result_sum)\n",
    "\n",
    "# Subtração\n",
    "result_minus=x-y\n",
    "print(result_minus)\n",
    "\n",
    "# Multiplicação\n",
    "result_mult=x*y\n",
    "print(result_mult)\n",
    "\n",
    "# Divisão, vai dividir o da esquerda com o da direita e vai retornar em ponto flutuante o resultado\n",
    "result_division=x/y\n",
    "print(result_division)\n",
    "\n",
    "# Divisão // vai dividir o da esquerda com o da direita e vai truncar se for float\n",
    "result_division_2=x//y\n",
    "print(result_division_2)\n",
    "\n"
   ]
  },
  {
   "cell_type": "code",
   "execution_count": 36,
   "id": "2fc533d0-c595-4ac7-9ebe-5d2363ba2a27",
   "metadata": {},
   "outputs": [
    {
     "name": "stdout",
     "output_type": "stream",
     "text": [
      "L\n",
      "i\n",
      "Landi\n",
      "L\n",
      "Leite\n"
     ]
    },
    {
     "data": {
      "text/plain": [
       "10"
      ]
     },
     "execution_count": 36,
     "metadata": {},
     "output_type": "execute_result"
    }
   ],
   "source": [
    "# Operrações com string\n",
    "# A string é guardado como se fosse um array e indexada\n",
    "name=\"LandiLeite\"\n",
    "# Para imprimir de primeiro caracter\n",
    "print(name[0]) #-> Vai imprimir o primeiro caracter\n",
    "print(name[4]) #-> Vai imprimir o quinto caracter\n",
    "print(name[0:5]) # Vai imprimir entre a posição 0 e a posição 5\n",
    "print(name[5])\n",
    "print(name[5:])\n",
    "\n",
    "# Para verificar o tamanho de uma string\n",
    "len(name) #-> Mostra o tamanho da string\n"
   ]
  }
 ],
 "metadata": {
  "kernelspec": {
   "display_name": "Python 3 (ipykernel)",
   "language": "python",
   "name": "python3"
  },
  "language_info": {
   "codemirror_mode": {
    "name": "ipython",
    "version": 3
   },
   "file_extension": ".py",
   "mimetype": "text/x-python",
   "name": "python",
   "nbconvert_exporter": "python",
   "pygments_lexer": "ipython3",
   "version": "3.9.6"
  }
 },
 "nbformat": 4,
 "nbformat_minor": 5
}
