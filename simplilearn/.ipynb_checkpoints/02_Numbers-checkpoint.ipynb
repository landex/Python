{
 "cells": [
  {
   "cell_type": "code",
   "execution_count": 18,
   "id": "0c3befb8-72d9-4d74-aacf-71dec95b77f1",
   "metadata": {},
   "outputs": [
    {
     "data": {
      "text/plain": [
       "int"
      ]
     },
     "execution_count": 18,
     "metadata": {},
     "output_type": "execute_result"
    }
   ],
   "source": [
    "# Esse notebook é para o estudo de números em python\n",
    "# Número inteiro\n",
    "number=5\n",
    "type(number) #-> Verificar o tipo do número"
   ]
  },
  {
   "cell_type": "code",
   "execution_count": 19,
   "id": "4f30987e-965e-4b4a-8277-4c1d1bfca6b3",
   "metadata": {},
   "outputs": [
    {
     "data": {
      "text/plain": [
       "int"
      ]
     },
     "execution_count": 19,
     "metadata": {},
     "output_type": "execute_result"
    }
   ],
   "source": [
    "number_2=284738393939 #-> O tamanho do número é de acordo com a tamanho da memoria disponivel\n",
    "type(number_2) #-> Esse número também é um inteiro.\n"
   ]
  },
  {
   "cell_type": "code",
   "execution_count": 20,
   "id": "3c16d2e7-328c-4a1c-925f-001b73c83511",
   "metadata": {},
   "outputs": [
    {
     "data": {
      "text/plain": [
       "float"
      ]
     },
     "execution_count": 20,
     "metadata": {},
     "output_type": "execute_result"
    }
   ],
   "source": [
    "# Agora com ponto flutuante\n",
    "number=5.2\n",
    "type(number) #-> Mostra que o número é ponto flutuante no caso temos float"
   ]
  },
  {
   "cell_type": "code",
   "execution_count": 29,
   "id": "90526ab4-f7ab-4221-8299-382a0e827a04",
   "metadata": {},
   "outputs": [
    {
     "name": "stdout",
     "output_type": "stream",
     "text": [
      "<class 'complex'>\n",
      "2.0\n",
      "<class 'float'>\n",
      "2.0\n",
      "5.0\n"
     ]
    }
   ],
   "source": [
    "# Agora um número complexo\n",
    "number=2+5j #-> representa complex type\n",
    "type_number=type(number)\n",
    "print(type_number) #-> Imprimindo o tipo do número que é complexo\n",
    "\n",
    "# Imprimir o número real\n",
    "real_number=number.real\n",
    "print(real_number) #-> Imprimindo o número real\n",
    "type_real_number=type(real_number) #-> Vendo o tipo do número\n",
    "print(type_real_number)\n",
    "print(real_number) #-> Imprimindo o número\n",
    "\n",
    "# Imprimir o número imaginário\n",
    "imagine_number=number.imag\n",
    "print(imagine_number)\n"
   ]
  },
  {
   "cell_type": "code",
   "execution_count": 28,
   "id": "3307a345-e325-4659-a0c4-cf8790ce749d",
   "metadata": {},
   "outputs": [
    {
     "name": "stdout",
     "output_type": "stream",
     "text": [
      "-5566.999\n"
     ]
    }
   ],
   "source": [
    "# números negativos\n",
    "number=-5566.999\n",
    "type(number)\n",
    "print(number)"
   ]
  },
  {
   "cell_type": "code",
   "execution_count": 34,
   "id": "d67cbfc2-e898-4996-8094-d02ebaec0aff",
   "metadata": {},
   "outputs": [
    {
     "name": "stdout",
     "output_type": "stream",
     "text": [
      "30\n",
      "-10\n",
      "0.5\n",
      "0\n",
      "100000000000000000000\n",
      "200\n",
      "0\n"
     ]
    }
   ],
   "source": [
    "# Operações matemáticas básicas\n",
    "number1=10\n",
    "number2=20\n",
    "#somando eles\n",
    "print(number1+number2)\n",
    "# subtraindo\n",
    "print(number1-number2)\n",
    "# divisão\n",
    "print(number1/number2) #-> FLOAT number\n",
    "print(number1//number2) #-> INT value in result\n",
    "# Potencia\n",
    "print(number1**number2)\n",
    "# Multiplicação\n",
    "print(number1*number2)\n",
    "# Mod da divisão onde sempre sobra 0\n",
    "print(number2%number1)"
   ]
  },
  {
   "cell_type": "code",
   "execution_count": 45,
   "id": "21b956bf-bc93-4461-9bf6-5229161cb44a",
   "metadata": {},
   "outputs": [
    {
     "name": "stdout",
     "output_type": "stream",
     "text": [
      "<class 'str'>\n",
      "192\n",
      "192\n",
      "<class 'int'>\n",
      "192.0\n",
      "<class 'float'>\n"
     ]
    }
   ],
   "source": [
    "# Conversões em Python\n",
    "number=\"192\" #-> Neste caso temos uma string e não um número\n",
    "before_conversion=type(number) #-> Pegando o tipo da variável antes da conversão\n",
    "print(before_conversion)\n",
    "print(number) #-> Imprimindo a variável\n",
    "\n",
    "# Para converter o número executamos o comando abaixo\n",
    "converted_to_int=int(number) #-> Convertendo o número para inteiro\n",
    "print(number) #-> Imprimindo após a conversão\n",
    "type_int=type(converted_to_int) #-> Informa que o tipo é inteiro\n",
    "print(type_int)\n",
    "\n",
    "# Convertenado a mesma variável para float\n",
    "converted_to_float=float(number)\n",
    "print(converted_to_float)\n",
    "type_float=type(converted_to_float)\n",
    "print(type_float)\n"
   ]
  },
  {
   "cell_type": "code",
   "execution_count": 47,
   "id": "09ec78e1-9745-4e57-8002-f678e88f7c6a",
   "metadata": {},
   "outputs": [
    {
     "name": "stdout",
     "output_type": "stream",
     "text": [
      "(192+0j)\n",
      "<class 'complex'>\n"
     ]
    }
   ],
   "source": [
    "# Criando um número complexo\n",
    "number=complex(number) #-> Criando um número complexo\n",
    "print(number) #-> Imprimindo o número complexo\n",
    "number_type=type(number) # -> Mostrando o tipo\n",
    "print(number_type)\n"
   ]
  },
  {
   "cell_type": "code",
   "execution_count": 1,
   "id": "2a4c2c65-00f0-4f7d-a8e6-50dcc6a23015",
   "metadata": {},
   "outputs": [
    {
     "name": "stdout",
     "output_type": "stream",
     "text": [
      "7.5\n"
     ]
    }
   ],
   "source": [
    "# Agora vamos ver as funções\n",
    "my_function = -7.5\n",
    "print(abs(my_function)) #-> Função ABS retorna o valor absoluto de um número dado"
   ]
  },
  {
   "cell_type": "code",
   "execution_count": 9,
   "id": "ef47c0ae-7a3f-45df-a8af-3f42e7f8a2c3",
   "metadata": {},
   "outputs": [
    {
     "name": "stdout",
     "output_type": "stream",
     "text": [
      "22026.465794806718\n",
      "22025.465794806718\n"
     ]
    }
   ],
   "source": [
    "# Vamos utilizar a biblioteca de matemática math\n",
    "import math #-> Biblioteca de matemática\n",
    "number_1=10\n",
    "print(math.exp(number_1)) #-> Expoenciação\n",
    "print(math.expm1(number_1)) #-> Expoenciação menos 1"
   ]
  },
  {
   "cell_type": "code",
   "execution_count": 10,
   "id": "2026689c-16d9-4701-b3f0-66b4131322ca",
   "metadata": {},
   "outputs": [
    {
     "data": {
      "text/plain": [
       "2.718281828459045"
      ]
     },
     "execution_count": 10,
     "metadata": {},
     "output_type": "execute_result"
    }
   ],
   "source": [
    "# Temoss também uma contante a math.e \n",
    "math.e"
   ]
  },
  {
   "cell_type": "code",
   "execution_count": 12,
   "id": "211ba2ca-0ce8-4a11-bd3e-e301bb878b08",
   "metadata": {},
   "outputs": [
    {
     "data": {
      "text/plain": [
       "3.141592653589793"
      ]
     },
     "execution_count": 12,
     "metadata": {},
     "output_type": "execute_result"
    }
   ],
   "source": [
    "# Outra constante que temos é o PI\n",
    "math.pi"
   ]
  },
  {
   "cell_type": "code",
   "execution_count": 13,
   "id": "147905f3-b17d-4a0b-bd6c-9563cc1a3a04",
   "metadata": {},
   "outputs": [
    {
     "name": "stdout",
     "output_type": "stream",
     "text": [
      "3.0\n"
     ]
    }
   ],
   "source": [
    "# Outra função matemática é a raiz quarada\n",
    "print(math.sqrt(9))"
   ]
  },
  {
   "cell_type": "code",
   "execution_count": 16,
   "id": "85f43849-3c05-4f59-a365-5610135f4eee",
   "metadata": {},
   "outputs": [
    {
     "name": "stdout",
     "output_type": "stream",
     "text": [
      "8\n",
      "0\n"
     ]
    }
   ],
   "source": [
    "# Função MAX, retorna o maximo de um valor de uma lista e também tem a MIN que retorna o menor valor\n",
    "max=max(0,2,4,6,8) #-> Lista de números\n",
    "print(max) #-> Vai retonar o maior número da lista\n",
    "min=min(0,2,4,6,8) #-> Lista de números\n",
    "print(min) # -> Vai retornar o menor número da lista"
   ]
  }
 ],
 "metadata": {
  "kernelspec": {
   "display_name": "Python 3 (ipykernel)",
   "language": "python",
   "name": "python3"
  },
  "language_info": {
   "codemirror_mode": {
    "name": "ipython",
    "version": 3
   },
   "file_extension": ".py",
   "mimetype": "text/x-python",
   "name": "python",
   "nbconvert_exporter": "python",
   "pygments_lexer": "ipython3",
   "version": "3.9.6"
  }
 },
 "nbformat": 4,
 "nbformat_minor": 5
}
