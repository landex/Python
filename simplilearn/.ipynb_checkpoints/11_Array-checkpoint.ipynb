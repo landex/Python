{
 "cells": [
  {
   "cell_type": "code",
   "execution_count": 1,
   "id": "1e5f0ce4-996d-40e2-9aac-20c508b05da1",
   "metadata": {},
   "outputs": [
    {
     "name": "stdout",
     "output_type": "stream",
     "text": [
      "array('i', [1, 2, 3, 4, 5])\n"
     ]
    }
   ],
   "source": [
    "# Utilizando Arrays\n",
    "# É um container de multiplos valores do mesmo tipo\n",
    "# Python type codes\n",
    "from array import *\n",
    "arr = array('i',[1,2,3,4,5])\n",
    "            #|-> Está indicando que é um array de números inteiros \n",
    "print (arr)"
   ]
  },
  {
   "cell_type": "code",
   "execution_count": null,
   "id": "94e9ac1c-8b9c-45a7-9adb-dbdf329ca695",
   "metadata": {},
   "outputs": [],
   "source": []
  }
 ],
 "metadata": {
  "kernelspec": {
   "display_name": "Python 3 (ipykernel)",
   "language": "python",
   "name": "python3"
  },
  "language_info": {
   "codemirror_mode": {
    "name": "ipython",
    "version": 3
   },
   "file_extension": ".py",
   "mimetype": "text/x-python",
   "name": "python",
   "nbconvert_exporter": "python",
   "pygments_lexer": "ipython3",
   "version": "3.9.6"
  }
 },
 "nbformat": 4,
 "nbformat_minor": 5
}
