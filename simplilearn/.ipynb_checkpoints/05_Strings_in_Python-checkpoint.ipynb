{
 "cells": [
  {
   "cell_type": "code",
   "execution_count": 2,
   "id": "4023850d-8b5d-4250-9a6d-2dbcb75f196c",
   "metadata": {},
   "outputs": [
    {
     "name": "stdout",
     "output_type": "stream",
     "text": [
      "String String\n"
     ]
    }
   ],
   "source": [
    "# |Trabalhando com strings em python\n",
    "# Exemplo e variável string\n",
    "var=\"String\"\n",
    "var_2='String'\n",
    "print(var,var_2)"
   ]
  },
  {
   "cell_type": "code",
   "execution_count": 3,
   "id": "fdb1d4ab-ebb1-4cfb-be39-276e3740b6cc",
   "metadata": {},
   "outputs": [
    {
     "name": "stdout",
     "output_type": "stream",
     "text": [
      "Tim's birthday\n",
      "Tim said, \"I am busy today\" \n",
      "Tim said, \"I'm busy today\" \n",
      "Hey there! \n",
      "Welcome \n",
      "to \n",
      "Simplilearn\n"
     ]
    }
   ],
   "source": [
    "stg_0=\"Tim's birthday\" #-> Se colocar apóstofro utilizar aspas duplas\n",
    "print(stg_0)\n",
    "stg_1='Tim said, \"I am busy today\" ' #-> Pode usar aspas simples\n",
    "print(stg_1)\n",
    "stg_2='Tim said, \"I\\'m busy today\" ' #-> usa-se a barra invertida para a apóstofor\n",
    "print(stg_2)\n",
    "stg_3='''Hey there! \n",
    "Welcome \n",
    "to \n",
    "Simplilearn''' #-> usando aspas simples 3 vezes o codigo entende que tem multiplas linhas\n",
    "print(stg_3)"
   ]
  },
  {
   "cell_type": "code",
   "execution_count": 4,
   "id": "22717e1d-4e27-43c5-ab11-285e3e571c9b",
   "metadata": {},
   "outputs": [
    {
     "name": "stdout",
     "output_type": "stream",
     "text": [
      "11\n",
      "13\n",
      "S\n",
      "S\n",
      "i\n",
      "m\n",
      "p\n",
      "l\n",
      "i\n",
      "l\n",
      "e\n",
      "a\n",
      "r\n",
      "n\n",
      "Simplilearn"
     ]
    }
   ],
   "source": [
    "# Algumas funções para strings\n",
    "stg=\"Simplilearn\"\n",
    "print(len(stg)) #-> Verifica o tamanho da string\n",
    "stg_0=\"Simplilearn n\" #-> Quando temos um caracter de espaço(vazio)\n",
    "print(len(stg_0)) #-> O Caracter vazio é contado também \n",
    "# Como a string é armazenada em um array, a gente consegue imprimir um caracter especifico da variável\n",
    "print(stg[0])\n",
    "\n",
    "# Podemos usar um loop for para pegar caracter por caracter\n",
    "\n",
    "for i in stg:\n",
    "    print(i) # -> Desta forma vai ser impresso um caracter por linha na saída\n",
    "\n",
    "# Também pode ser usado para imprimir toda a string\n",
    "for i in stg:\n",
    "    print(i, end=\"\")\n",
    "\n"
   ]
  },
  {
   "cell_type": "code",
   "execution_count": 8,
   "id": "a919a891-817c-461c-860b-a5a253a4824b",
   "metadata": {},
   "outputs": [
    {
     "name": "stdout",
     "output_type": "stream",
     "text": [
      "Simplilearn\n",
      "Simpl\n",
      "Simpl\n",
      "n\n",
      "ilearn\n",
      "mpl\n"
     ]
    }
   ],
   "source": [
    "# Também podemos extrair parte a string\n",
    "print(stg)\n",
    "print(stg[0:5]) #-> Vai imprimir da posição 0 até a posição 4 que é menor que 5\n",
    "print(stg[:5]) #-> Vai imprimir as posições menor que 5 iniciando da primeira\n",
    "print(stg[-1]) #-> Vai imprimir a última posição\n",
    "print(stg[5:]) #-> Vai imprimir da posiçaõ 5 em diante\n",
    "print(stg[2:5]) #-> Iniciando a extração na posição 2 até a posição 4 que é menor que a 5"
   ]
  },
  {
   "cell_type": "code",
   "execution_count": 26,
   "id": "95941892-c29a-4905-9ef5-fd3c9798fb9b",
   "metadata": {},
   "outputs": [
    {
     "name": "stdout",
     "output_type": "stream",
     "text": [
      "WELCOME TO SIMPLILEARN\n",
      "welcome to simplilearn\n",
      "11\n",
      "11\n"
     ]
    }
   ],
   "source": [
    "# Outros métodos\n",
    "stg=\"Welcome to Simplilearn\"\n",
    "print(stg.upper()) #-> Vai imprimir tudo maísculo\n",
    "print(stg.lower()) #-> Imprimir minusculo\n",
    "# Para procurar em uma string\n",
    "print(stg.find('S')) #-> Vai retornar a posição do item\n",
    "print(stg.index('S')) #-> Vai retornar o idex do item\n",
    "\n",
    "\n"
   ]
  },
  {
   "cell_type": "code",
   "execution_count": 41,
   "id": "1dcaa365-d181-44a7-b91c-9b418832efe9",
   "metadata": {},
   "outputs": [
    {
     "name": "stdout",
     "output_type": "stream",
     "text": [
      "['Welcome', 'to', 'Simplilearn']\n",
      "['Welcome', 'to', 'Simplilearn']\n",
      "Welcome to Python Tutorial\n",
      "('Welcome', ' to ', 'Simplilearn')\n"
     ]
    }
   ],
   "source": [
    "# Trabalhando com a função split que transforma em lista\n",
    "print(stg.split()) #-> Tranforma em lista\n",
    "# Transformando o split em variável\n",
    "split_string=stg.split() #-> Armazenando em variável\n",
    "print(split_string)\n",
    "print(stg.replace(\"Simplilearn\",\"Python Tutorial\")) #-> Para troca algo na string\n",
    "# Metoddo de partição que cria uma tupla\n",
    "print(stg.partition(\" to \"))\n",
    "\n",
    "\n"
   ]
  },
  {
   "cell_type": "code",
   "execution_count": 42,
   "id": "ddc5a9ac-92fe-4de2-9070-5c5d866b22dc",
   "metadata": {},
   "outputs": [
    {
     "name": "stdout",
     "output_type": "stream",
     "text": [
      "good mornig\n"
     ]
    }
   ],
   "source": [
    "# Concatenação das strings\n",
    "stg_1=\"good\"\n",
    "stg_2=\"mornig\"\n",
    "con_stg=stg_1+\" \"+stg_2\n",
    "print(con_stg) #-> Vai imprimir tudo junto formando a frase"
   ]
  },
  {
   "cell_type": "code",
   "execution_count": 45,
   "id": "a7750afa-d69d-4b21-9b87-dc13a668b5e1",
   "metadata": {},
   "outputs": [
    {
     "name": "stdout",
     "output_type": "stream",
     "text": [
      "Hey there, all!\n"
     ]
    }
   ],
   "source": [
    "# Concatenaçaõ e formatação\n",
    "stg_1=\"Hey\"\n",
    "stg_2=\"there\"\n",
    "stg_3=\"all\"\n",
    "# Para formatar\n",
    "stg=\"{} {}, {}!\".format(stg_1,stg_2,stg_3) #-> Com isso vamos formatar a string\n",
    "print(stg)"
   ]
  }
 ],
 "metadata": {
  "kernelspec": {
   "display_name": "Python 3 (ipykernel)",
   "language": "python",
   "name": "python3"
  },
  "language_info": {
   "codemirror_mode": {
    "name": "ipython",
    "version": 3
   },
   "file_extension": ".py",
   "mimetype": "text/x-python",
   "name": "python",
   "nbconvert_exporter": "python",
   "pygments_lexer": "ipython3",
   "version": "3.9.6"
  }
 },
 "nbformat": 4,
 "nbformat_minor": 5
}
