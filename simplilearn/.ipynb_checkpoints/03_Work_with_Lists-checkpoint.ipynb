{
 "cells": [
  {
   "cell_type": "code",
   "execution_count": 6,
   "id": "763db26e-ea22-4a5a-b8e0-63131270b5c3",
   "metadata": {},
   "outputs": [
    {
     "name": "stdout",
     "output_type": "stream",
     "text": [
      "[1, 2, 3, 4]\n",
      "['a', 'b', 'c', 'd']\n",
      "['get', 'certified', 'go', 'ahead']\n",
      "[1, 6, 'Simplilearn', 'get', 'certified', 'd']\n"
     ]
    }
   ],
   "source": [
    "# Trabalhando com listas, que é uma coleção de dados\n",
    "# Todos os elementos em uma lista tem uma posição exemplo\n",
    "# Lista=(1,89,'A','Hey',0,'B')\n",
    "# Cada elemento está indexado na liasta\n",
    "# Valores da Lista >=> 1     89      A     Hey     0      B\n",
    "# Indices da lista >=> |-> 0 |-> 1  |-> 2  |-> 3  |-> 4  |-> 5\n",
    "\n",
    "# Minha lista de números\n",
    "numbers_list=[1,2,3,4]\n",
    "print(numbers_list) #-> Imprimindo minha lista de números\n",
    "\n",
    "# Minha lista de letras\n",
    "letters_list=['a','b','c','d']\n",
    "print(letters_list) #-> Imprimindo a lista de letras\n",
    "\n",
    "# Minha lista de strings\n",
    "strings_list=[\"get\",\"certified\",\"go\",\"ahead\"]\n",
    "print(strings_list) #-> Imprimindo a lista de strings\n",
    "\n",
    "# Minha lista misturada\n",
    "mix_list=[1,6,\"Simplilearn\",\"get\",\"certified\",\"d\"]\n",
    "print(mix_list)"
   ]
  },
  {
   "cell_type": "code",
   "execution_count": 8,
   "id": "c69814e4-0550-4789-b3e4-150501ce3e0e",
   "metadata": {},
   "outputs": [
    {
     "name": "stdout",
     "output_type": "stream",
     "text": [
      "[[1, 2], ['a', 'b']]\n"
     ]
    }
   ],
   "source": [
    "# Criando uma lista com outra lista dentro. \n",
    "list_with_inside_list=[[1,2],['a','b']]\n",
    "print(list_with_inside_list)"
   ]
  },
  {
   "cell_type": "code",
   "execution_count": 26,
   "id": "ca11bf9a-d545-49c6-9df6-9a7d9a9de110",
   "metadata": {},
   "outputs": [
    {
     "name": "stdout",
     "output_type": "stream",
     "text": [
      "[1, 6, 'Simplilearn', 'get', 'certified', 'd']\n",
      "get\n",
      "certified\n",
      "[1, 6, 'Simplilearn']\n",
      "['get', 'certified', 'd']\n",
      "['Simplilearn', 'get']\n",
      "[1, 'Simplilearn', 'certified']\n",
      "['d', 'certified', 'get', 'Simplilearn', 6, 1]\n"
     ]
    }
   ],
   "source": [
    "# Acessano os dados das listas\n",
    "print(mix_list)\n",
    "print(mix_list[3]) #-> To get elemento indexado na posição 3 a lista, lembrando que a lista começa 0\n",
    "print(mix_list[-2]) #-> Vai buscar o ultimo elemento -2\n",
    "print(mix_list[:3]) #-> Imprimir as 3 primeiras posições\n",
    "print(mix_list[3:]) #-> Imprimir as 3 últimas posições\n",
    "print(mix_list[2:4]) #-> Imprimir entre as posições 2 e 3\n",
    "print(mix_list[::2]) #-> Imprime elementos de 2 em dois, imprime 1 e pula outro\n",
    "print(mix_list[::-1]) #-> Imprime elementos de forma inversa"
   ]
  },
  {
   "cell_type": "code",
   "execution_count": 39,
   "id": "c5ae1a29-5bce-4248-83e3-d42fba6f3ab9",
   "metadata": {},
   "outputs": [
    {
     "name": "stdout",
     "output_type": "stream",
     "text": [
      "[10, 10, 10, 10, 10, 10, 10, 10, 10, 10]\n",
      "['a', 'b', 'c', 'd']\n",
      "['get', 'certified', 'go', 'ahead']\n",
      "['a', 'b', 'c', 'd', 'get', 'certified', 'go', 'ahead']\n",
      "['H', 'e', 'y', ',', ' ', 'H', 'o', '!', ' ', 'L', 'e', 't', 's', ' ', 'G', 'o', '!']\n"
     ]
    }
   ],
   "source": [
    "# Operações na listas\n",
    "list_z=[10]*10 #-> Permite a inserção de um valor em uma lista, no caso [Valor_Inserir]*Quantidade a ser Inserido\n",
    "print(list_z)\n",
    "\n",
    "# Imprimindo lista de letras\n",
    "print(letters_list)\n",
    "\n",
    "# Imprimindo lista de Strings\n",
    "print(strings_list)\n",
    "\n",
    "# Para concatenar as listas\n",
    "concatenation=letters_list+strings_list\n",
    "print(concatenation)\n",
    "\n",
    "# Transformar uma String em uma lista\n",
    "string_in_list=list(\"Hey, Ho! Lets Go!\")\n",
    "print(string_in_list)"
   ]
  },
  {
   "cell_type": "code",
   "execution_count": 46,
   "id": "05d55378-7df8-4296-81e1-04c7590cac8b",
   "metadata": {},
   "outputs": [
    {
     "name": "stdout",
     "output_type": "stream",
     "text": [
      "[1, 2, 3, 4]\n",
      "1\n",
      "[2, 3, 4]\n"
     ]
    }
   ],
   "source": [
    "print(numbers_list) #-> Lista de números\n",
    "one, *other=numbers_list\n",
    "print(one)\n",
    "print(other)"
   ]
  },
  {
   "cell_type": "code",
   "execution_count": 57,
   "id": "71c94f16-04aa-499e-815a-8cd079325619",
   "metadata": {},
   "outputs": [
    {
     "name": "stdout",
     "output_type": "stream",
     "text": [
      "[0, 1, 2, 3, 4]\n",
      "[0, 1, 2, 3, 4, 5]\n",
      "['get', 'certified', 'go', 'ahead']\n",
      "[0, 1, 2, 3, 4, 5, 'get', 'certified', 'go', 'ahead']\n"
     ]
    }
   ],
   "source": [
    "# Métodos em listas\n",
    "numbers_list=[0,1,2,3,4]\n",
    "print(numbers_list) \n",
    "numbers_list.append(5) #-> Adiciona mais um número a lista\n",
    "print(numbers_list)\n",
    "\n",
    "# Método para extender\n",
    "print(strings_list) #-> Temos a lista de strings\n",
    "numbers_list.extend(strings_list) #-> Estende a lista com outra no caso vamos estender com a de strings\n",
    "print(numbers_list) #-> Agora a nossa lista foi estendida\n"
   ]
  }
 ],
 "metadata": {
  "kernelspec": {
   "display_name": "Python 3 (ipykernel)",
   "language": "python",
   "name": "python3"
  },
  "language_info": {
   "codemirror_mode": {
    "name": "ipython",
    "version": 3
   },
   "file_extension": ".py",
   "mimetype": "text/x-python",
   "name": "python",
   "nbconvert_exporter": "python",
   "pygments_lexer": "ipython3",
   "version": "3.9.6"
  }
 },
 "nbformat": 4,
 "nbformat_minor": 5
}
