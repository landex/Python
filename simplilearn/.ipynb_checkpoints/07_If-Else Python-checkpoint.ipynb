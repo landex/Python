{
 "cells": [
  {
   "cell_type": "code",
   "execution_count": 38,
   "id": "c98a0713-a2bc-4ac5-9978-4b1988f8c676",
   "metadata": {},
   "outputs": [
    {
     "name": "stdin",
     "output_type": "stream",
     "text": [
      "Type a Integer Number 1\n"
     ]
    },
    {
     "name": "stdout",
     "output_type": "stream",
     "text": [
      "This is outside of the if block\n"
     ]
    }
   ],
   "source": [
    "# Trabalhando com IF e ESLE\n",
    "# IF and ELSE são estruturas de decisão\n",
    "var_a=int(input(\"Type a Integer Number\"))\n",
    "if var_a > 50:\n",
    "    print(\"This is the if body\")\n",
    "print(\"This is outside of the if block\")"
   ]
  },
  {
   "cell_type": "code",
   "execution_count": 35,
   "id": "405d7665-3a14-4df2-96d6-6b0d4bb7677f",
   "metadata": {},
   "outputs": [
    {
     "name": "stdin",
     "output_type": "stream",
     "text": [
      "Type a Integer Number 3\n"
     ]
    },
    {
     "name": "stdout",
     "output_type": "stream",
     "text": [
      "This is the else block\n",
      "var_is an odd number\n"
     ]
    }
   ],
   "source": [
    "# Temos o IF e o Else\n",
    "var_i=int(input(\"Type a Integer Number\"))\n",
    "\n",
    "if var_i%2==0:\n",
    "    print(\"This is the if block\")\n",
    "    print(\"var_i is an even number\")\n",
    "else:\n",
    "    print(\"This is the else block\")\n",
    "    print(\"var_is an odd number\")"
   ]
  },
  {
   "cell_type": "code",
   "execution_count": 34,
   "id": "ace04bbf-cfeb-4434-816a-13173b035c18",
   "metadata": {},
   "outputs": [
    {
     "name": "stdin",
     "output_type": "stream",
     "text": [
      "Type a Integer Number 33\n"
     ]
    },
    {
     "name": "stdout",
     "output_type": "stream",
     "text": [
      "var_c is greater than 25\n"
     ]
    }
   ],
   "source": [
    "# IF Aninhado\n",
    "var_number=int(input(\"Type a Integer Number\"))\n",
    "if var_number < 25:\n",
    "    if var_number%2==0:\n",
    "        print(\"var_c is an even number less than 25\")\n",
    "    else:\n",
    "        print(\"var_c is an odd number less than 25\")\n",
    "else:\n",
    "    print(\"var_c is greater than 25\")"
   ]
  },
  {
   "cell_type": "code",
   "execution_count": 30,
   "id": "51a5c2a7-c990-4ccf-bcb2-c231d57c503c",
   "metadata": {},
   "outputs": [
    {
     "name": "stdin",
     "output_type": "stream",
     "text": [
      "Type an Letter S\n"
     ]
    },
    {
     "name": "stdout",
     "output_type": "stream",
     "text": [
      "This is the voewl a\n"
     ]
    }
   ],
   "source": [
    "# IF-ELIF estruturas\n",
    "letter_var=input(\"Type an Letter\")\n",
    "if letter_var=='a' or 'A':\n",
    "    print(\"This is the voewl a\")\n",
    "elif letter_var=='e' or 'E':\n",
    "    print(\"This is the voewl e\")\n",
    "elif letter_var=='i' or 'I':\n",
    "    print(\"This is the voewl i\")\n",
    "elif letter_var=='o' or 'O':\n",
    "    print(\"This is the voewl o\")\n",
    "elif letter_var=='u' or 'U':\n",
    "    print(\"This is the voewl u\")\n",
    "else:\n",
    "    print(\"This is a consonat\")\n",
    "    "
   ]
  },
  {
   "cell_type": "code",
   "execution_count": 22,
   "id": "8358e5ac-777d-4665-9d67-5f988c5381cf",
   "metadata": {},
   "outputs": [
    {
     "name": "stdin",
     "output_type": "stream",
     "text": [
      "Type an Letter G\n"
     ]
    },
    {
     "name": "stdout",
     "output_type": "stream",
     "text": [
      "This letter G is the consonat\n"
     ]
    }
   ],
   "source": [
    "letter_input=input(\"Type an Letter\")\n",
    "in_var=['a','e','i','o','u','A','E','I','O','U']\n",
    "\n",
    "if letter_input in in_var:\n",
    "    print(\"This letter\", letter_input + \" is the voewl\")\n",
    "else:\n",
    "    print(\"This letter\", letter_input + \" is the consonat\")\n",
    "    \n"
   ]
  }
 ],
 "metadata": {
  "kernelspec": {
   "display_name": "Python 3 (ipykernel)",
   "language": "python",
   "name": "python3"
  },
  "language_info": {
   "codemirror_mode": {
    "name": "ipython",
    "version": 3
   },
   "file_extension": ".py",
   "mimetype": "text/x-python",
   "name": "python",
   "nbconvert_exporter": "python",
   "pygments_lexer": "ipython3",
   "version": "3.9.6"
  }
 },
 "nbformat": 4,
 "nbformat_minor": 5
}
