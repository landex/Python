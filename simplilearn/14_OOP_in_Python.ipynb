{
 "cells": [
  {
   "cell_type": "code",
   "execution_count": 1,
   "source": [
    "# Vendo programação orientada a objetos em Python\r\n",
    "# POO em português ou OOP\r\n",
    "# Toda a instancia em python é um objeto\r\n",
    "# Um objeto tem atributo daods que descreve o objeto e tem comportamento metodos e atributos\r\n",
    "# Classe é uma coleção de objetos similares\r\n",
    "class car: #-> Criando a classe carro\r\n",
    "    def __init__(self,year,speed): #-> Criando novas instãncias \r\n",
    "        self.year = year\r\n",
    "        self.speed = speed\r\n",
    "    def getSpeed(self) :#-> Definição \r\n",
    "        print(\"maximum speed is:\", self.speed)\r\n",
    "    def setSpeed(self, speed): #-> Encapsulamento\r\n",
    "        self.speed = speed\r\n",
    "\r\n",
    "BMW = car(2018, 155) #-> Instancias classes\r\n",
    "BMW.getSpeed()\r\n",
    "BMW.setSpeed(143)\r\n",
    "BMW.getSpeed()\r\n",
    "# FORD = car(2016, 140) #-> Instancias da classes\r\n",
    "\r\n",
    "#car.getSpeed(BMW)\r\n",
    "#car.getSpeed(FORD)\r\n",
    "\r\n",
    "# BMW.getSpeed() #-> Chamou a instancia que traz informações de velocidade\r\n",
    "# FORD.getSpeed() #-> Chamou a intancia que traz informações de velocidade"
   ],
   "outputs": [
    {
     "output_type": "stream",
     "name": "stdout",
     "text": [
      "maximum speed is: 155\n",
      "maximum speed is: 143\n"
     ]
    }
   ],
   "metadata": {}
  },
  {
   "cell_type": "code",
   "execution_count": 3,
   "source": [
    "# Herança de classe\r\n",
    "class car() :\r\n",
    "    def __init__ (self, year, speed):\r\n",
    "        self.year = year\r\n",
    "        self.speed = speed\r\n",
    "    def getSpeed(self):\r\n",
    "        print(\"Max speed is\", self.speed)\r\n",
    "    def setSpeed(self, speed):\r\n",
    "        self.speed = speed\r\n",
    "\r\n",
    "# BMW\r\n",
    "#BMW = car(218, 155)\r\n",
    "#FORD = car(2016, 140)\r\n",
    "\r\n",
    "class Sedan(car) : #-> Child class\r\n",
    "    def accelerate(self):\r\n",
    "        print(\"137\")\r\n",
    "    def openTrunk(self):\r\n",
    "        print(\"Trunk has been opened\")\r\n",
    "class SUV(car): #-> Child class\r\n",
    "    def accelerate(self):\r\n",
    "        print(\"127\")\r\n",
    "\r\n",
    "Honda = Sedan(2018,150)\r\n",
    "BMW.getSpeed()\r\n",
    "Honda.getSpeed()\r\n",
    "Honda.openTrunk()"
   ],
   "outputs": [
    {
     "output_type": "stream",
     "name": "stdout",
     "text": [
      "Max speed is 155\n",
      "Max speed is 150\n",
      "Trunk has been opened\n"
     ]
    }
   ],
   "metadata": {}
  },
  {
   "cell_type": "code",
   "execution_count": 8,
   "source": [
    "# Encapsulamento\r\n",
    "class Car: #-> Classe\r\n",
    "    def __init__ (self, year, speed):\r\n",
    "        self.year = year\r\n",
    "        self.speed = speed\r\n",
    "    \r\n",
    "    def getSpeed(self):\r\n",
    "        print('Max speed:', self.speed)\r\n",
    "    \r\n",
    "    def setSpeed(self, speed):\r\n",
    "        self.speed = speed\r\n",
    "# Tudo isso acima está encapsulado\r\n",
    "\r\n",
    "BMW = Car(2018, 155)\r\n",
    "Ford = Car(2016, 140)\r\n",
    "BMW.getSpeed()\r\n",
    "\r\n",
    "BMW.setSpeed(150)\r\n",
    "BMW.getSpeed()\r\n",
    "print(BMW.speed)"
   ],
   "outputs": [
    {
     "output_type": "stream",
     "name": "stdout",
     "text": [
      "Max speed: 155\n",
      "Max speed: 150\n",
      "150\n"
     ]
    }
   ],
   "metadata": {}
  },
  {
   "cell_type": "code",
   "execution_count": 9,
   "source": [
    "# Polimorfismo\r\n",
    "class Car: \r\n",
    "    def __init__(self, name):\r\n",
    "        self.name=name\r\n",
    "\r\n",
    "class Sedan(Car):\r\n",
    "    def accelerate(self):\r\n",
    "        print(\"Accelerate 150\")\r\n",
    "\r\n",
    "class SUV(Car):\r\n",
    "    def accelerate(self):\r\n",
    "        print(\"SUV Accelerate 180\")\r\n",
    "\r\n",
    "objL = [Sedan(\"Carmry\"), SUV(\"Scorpio\")] #-> Instancia do objeto\r\n",
    "\r\n",
    "for obj in objL:\r\n",
    "    print (obj.name+\" : \", end = \"\")\r\n",
    "    obj.accelerate()\r\n"
   ],
   "outputs": [
    {
     "output_type": "stream",
     "name": "stdout",
     "text": [
      "Carmry : Accelerate 150\n",
      "Scorpio : SUV Accelerate 180\n"
     ]
    }
   ],
   "metadata": {}
  }
 ],
 "metadata": {
  "orig_nbformat": 4,
  "language_info": {
   "name": "python",
   "version": "3.9.6",
   "mimetype": "text/x-python",
   "codemirror_mode": {
    "name": "ipython",
    "version": 3
   },
   "pygments_lexer": "ipython3",
   "nbconvert_exporter": "python",
   "file_extension": ".py"
  },
  "kernelspec": {
   "name": "python3",
   "display_name": "Python 3.9.6 64-bit"
  },
  "interpreter": {
   "hash": "ad0535b952be1423b26732a49bfe6acbb13cf85c02af98c1eb35a3250f3735c6"
  }
 },
 "nbformat": 4,
 "nbformat_minor": 2
}