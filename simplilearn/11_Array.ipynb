{
 "cells": [
  {
   "cell_type": "code",
   "execution_count": 4,
   "source": [
    "# Utilizando Arrays\r\n",
    "# É um container de multiplos valores do mesmo tipo\r\n",
    "# Python type codes\r\n",
    "from array import *\r\n",
    "arr = array('i',[-1,0,1,2,3,4,5])\r\n",
    "            #|-> Está indicando que é um array de números inteiros \r\n",
    "print (arr)"
   ],
   "outputs": [
    {
     "output_type": "stream",
     "name": "stdout",
     "text": [
      "array('i', [-1, 0, 1, 2, 3, 4, 5])\n"
     ]
    }
   ],
   "metadata": {}
  },
  {
   "cell_type": "code",
   "execution_count": 5,
   "source": [
    "# Outro Array esse da erro se usar negativos\r\n",
    "arr = array('H',[-1,0,1])\r\n",
    "print(arr)\r\n"
   ],
   "outputs": [
    {
     "output_type": "error",
     "ename": "OverflowError",
     "evalue": "unsigned short is less than minimum",
     "traceback": [
      "\u001b[1;31m---------------------------------------------------------------------------\u001b[0m",
      "\u001b[1;31mOverflowError\u001b[0m                             Traceback (most recent call last)",
      "\u001b[1;32m~\\AppData\\Local\\Temp/ipykernel_10676/45292941.py\u001b[0m in \u001b[0;36m<module>\u001b[1;34m\u001b[0m\n\u001b[0;32m      1\u001b[0m \u001b[1;31m# Outro Array esse da erro se usar negativos\u001b[0m\u001b[1;33m\u001b[0m\u001b[1;33m\u001b[0m\u001b[1;33m\u001b[0m\u001b[0m\n\u001b[1;32m----> 2\u001b[1;33m \u001b[0marr\u001b[0m \u001b[1;33m=\u001b[0m \u001b[0marray\u001b[0m\u001b[1;33m(\u001b[0m\u001b[1;34m'H'\u001b[0m\u001b[1;33m,\u001b[0m\u001b[1;33m[\u001b[0m\u001b[1;33m-\u001b[0m\u001b[1;36m1\u001b[0m\u001b[1;33m,\u001b[0m\u001b[1;36m0\u001b[0m\u001b[1;33m,\u001b[0m\u001b[1;36m1\u001b[0m\u001b[1;33m]\u001b[0m\u001b[1;33m)\u001b[0m\u001b[1;33m\u001b[0m\u001b[1;33m\u001b[0m\u001b[0m\n\u001b[0m\u001b[0;32m      3\u001b[0m \u001b[0mprint\u001b[0m\u001b[1;33m(\u001b[0m\u001b[0marr\u001b[0m\u001b[1;33m)\u001b[0m\u001b[1;33m\u001b[0m\u001b[1;33m\u001b[0m\u001b[0m\n",
      "\u001b[1;31mOverflowError\u001b[0m: unsigned short is less than minimum"
     ]
    }
   ],
   "metadata": {}
  },
  {
   "cell_type": "code",
   "execution_count": 6,
   "source": [
    "# para verifiar o endereço de sistema do array\r\n",
    "print(arr.buffer_info()) #-> na sáida vai mostrar o endereço e depois da virgula o tamanho do array"
   ],
   "outputs": [
    {
     "output_type": "stream",
     "name": "stdout",
     "text": [
      "(2200239775264, 3)\n"
     ]
    }
   ],
   "metadata": {}
  },
  {
   "cell_type": "code",
   "execution_count": 6,
   "source": [
    "# Manipulando os arrays\r\n",
    "# Criando um novo array para trabalharmos\r\n",
    "arr = array('i',[1,2,3,4,5,6,7,8,9]) #-> Esse é o meu array\r\n",
    "print(arr) #-> Imprimindo o array\r\n",
    "print(arr.buffer_info()) #-> Imprimino o array com seu endereço \r\n",
    "# Para imprimir somente uma posição determinada do array\r\n",
    "# Temos no array a seguinte posição\r\n",
    "# 1,     2,    3,    4,  5,  6,    7,    8,    9\r\n",
    "# |-> 0, |-> 1 |-> 2 |-3 |-> |-> 4 |-> 5 |-> 6 |-> 7\r\n",
    "print(arr[2]) #-> Vai ser impresso a posição 2 que é igual a 3"
   ],
   "outputs": [
    {
     "output_type": "stream",
     "name": "stdout",
     "text": [
      "array('i', [1, 2, 3, 4, 5, 6, 7, 8, 9])\n",
      "(2944813744704, 9)\n",
      "3\n"
     ]
    }
   ],
   "metadata": {}
  },
  {
   "cell_type": "code",
   "execution_count": 7,
   "source": [
    "# Usando o for em um array\r\n",
    "for i in arr:\r\n",
    "    print(i) #-> Vai imprimir um em baixo do outro"
   ],
   "outputs": [
    {
     "output_type": "stream",
     "name": "stdout",
     "text": [
      "1\n",
      "2\n",
      "3\n",
      "4\n",
      "5\n",
      "6\n",
      "7\n",
      "8\n",
      "9\n"
     ]
    }
   ],
   "metadata": {}
  },
  {
   "cell_type": "code",
   "execution_count": 8,
   "source": [
    "# USando os ponteiros no python\r\n",
    "for pnt in range(1,4): #-> Vai pegar da posição 1 até a 3 que é menor que a 4\r\n",
    "    print(pnt, arr[pnt])\r\n"
   ],
   "outputs": [
    {
     "output_type": "stream",
     "name": "stdout",
     "text": [
      "1 2\n",
      "2 3\n",
      "3 4\n"
     ]
    }
   ],
   "metadata": {}
  },
  {
   "cell_type": "code",
   "execution_count": 9,
   "source": [
    "# Imprimindo o array de forma reversa\r\n",
    "arr.reverse()\r\n",
    "print(arr)"
   ],
   "outputs": [
    {
     "output_type": "stream",
     "name": "stdout",
     "text": [
      "array('i', [9, 8, 7, 6, 5, 4, 3, 2, 1])\n"
     ]
    }
   ],
   "metadata": {}
  },
  {
   "cell_type": "code",
   "execution_count": 13,
   "source": [
    "# Inserindo dados do Array\r\n",
    "arr.append(-1)\r\n",
    "print(arr)"
   ],
   "outputs": [
    {
     "output_type": "stream",
     "name": "stdout",
     "text": [
      "array('i', [9, 8, 7, 6, 5, 4, 3, 2, 1, 10, 12, -1])\n"
     ]
    }
   ],
   "metadata": {}
  },
  {
   "cell_type": "code",
   "execution_count": 17,
   "source": [
    "# Removendo dados do array\r\n",
    "print(arr)\r\n",
    "arr.remove(12) #-> Vai remover o número 2 do array\r\n",
    "print(arr)\r\n",
    "arr.remove(10)\r\n",
    "print(arr)"
   ],
   "outputs": [
    {
     "output_type": "stream",
     "name": "stdout",
     "text": [
      "array('i', [9, 8, 7, 6, 5, 4, 3, 1, 10, 12, -1])\n",
      "array('i', [9, 8, 7, 6, 5, 4, 3, 1, 10, -1])\n",
      "array('i', [9, 8, 7, 6, 5, 4, 3, 1, -1])\n"
     ]
    }
   ],
   "metadata": {}
  },
  {
   "cell_type": "code",
   "execution_count": 23,
   "source": [
    "# Se tivermos dados repetidos no Array e formos remover um deles\r\n",
    "new_arr = array('i',[-1,0,1,2,3,4,5,2])\r\n",
    "print(new_arr)\r\n",
    "# Agora vamos remover o 2\r\n",
    "new_arr.remove(2) #-> Vai remover a primeira ocorrencia \r\n",
    "print(new_arr)"
   ],
   "outputs": [
    {
     "output_type": "stream",
     "name": "stdout",
     "text": [
      "array('i', [-1, 0, 1, 2, 3, 4, 5, 2])\n",
      "array('i', [-1, 0, 1, 3, 4, 5, 2])\n"
     ]
    }
   ],
   "metadata": {}
  },
  {
   "cell_type": "code",
   "execution_count": 27,
   "source": [
    "# \r\n",
    "print(new_arr)\r\n",
    "print(new_arr[3]) # Imprimindo a posição\r\n",
    "print(new_arr.index(4))"
   ],
   "outputs": [
    {
     "output_type": "stream",
     "name": "stdout",
     "text": [
      "array('i', [-1, 0, 1, 3, 4, 5, 2])\n",
      "3\n",
      "4\n"
     ]
    }
   ],
   "metadata": {}
  },
  {
   "cell_type": "code",
   "execution_count": 39,
   "source": [
    "# Criando um array com base na entrada do usuário\r\n",
    "from array import *\r\n",
    "arr = array('i',[])\r\n",
    "print(arr)\r\n",
    "print(type(arr))\r\n",
    "x_arr = int(input(\"enter size of array\"))\r\n",
    "print(\"you entered with %d elements\" %x_arr)\r\n",
    "# Vamos criar um for, para podermos inserir os elementos no array\r\n",
    "for i in range(x_arr):\r\n",
    "    numbers=int(input(x_arr))\r\n",
    "    arr.append(numbers)\r\n",
    "print(arr)"
   ],
   "outputs": [
    {
     "output_type": "stream",
     "name": "stdout",
     "text": [
      "array('i')\n",
      "<class 'array.array'>\n",
      "you entered with 11 elements\n",
      "array('i', [5, 6, 1, 2, 6, 7, 8, 9, 0, 1, 2])\n"
     ]
    }
   ],
   "metadata": {}
  }
 ],
 "metadata": {
  "kernelspec": {
   "name": "python3",
   "display_name": "Python 3.9.6 64-bit"
  },
  "language_info": {
   "codemirror_mode": {
    "name": "ipython",
    "version": 3
   },
   "file_extension": ".py",
   "mimetype": "text/x-python",
   "name": "python",
   "nbconvert_exporter": "python",
   "pygments_lexer": "ipython3",
   "version": "3.9.6"
  },
  "interpreter": {
   "hash": "ad0535b952be1423b26732a49bfe6acbb13cf85c02af98c1eb35a3250f3735c6"
  }
 },
 "nbformat": 4,
 "nbformat_minor": 5
}