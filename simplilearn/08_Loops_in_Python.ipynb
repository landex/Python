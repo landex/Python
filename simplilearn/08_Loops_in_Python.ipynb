{
 "cells": [
  {
   "cell_type": "code",
   "execution_count": null,
   "id": "4b487e5d-3d0c-49b6-8e19-31da1680e84b",
   "metadata": {},
   "outputs": [],
   "source": [
    "# Loop no Python\n",
    "# Agora vamos ver como utilizar loops no Python\n",
    "# Para Imprimir uma string multiplas vezes\n",
    "# Temos While, for e nested loop\n"
   ]
  },
  {
   "cell_type": "code",
   "execution_count": 14,
   "id": "7077e6a8-f78d-4c73-8f96-f07f25741f66",
   "metadata": {},
   "outputs": [
    {
     "name": "stdin",
     "output_type": "stream",
     "text": [
      "Enter a multiple of 7 9\n",
      "Enter a multiple of 7 7\n"
     ]
    },
    {
     "name": "stdout",
     "output_type": "stream",
     "text": [
      "7 is a multiple of 7\n"
     ]
    }
   ],
   "source": [
    "# While loop repete uma condição um número de vezes até satisfazer uma condição\n",
    "val=int(input(\"Enter a multiple of 7\"))\n",
    "\n",
    "while val==0 or val%7 !=0: #-> Tem que entrar um número multiplo de 7, se não vai repetir o loop\n",
    "    val=int(input(\"Enter a multiple of 7\"))\n",
    "else: #-> Para sair do loop\n",
    "    print(\"%d is a multiple of 7\" %val)#-> Vai sair quando o usuário entrar com o número correto."
   ]
  },
  {
   "cell_type": "code",
   "execution_count": 16,
   "id": "f4c7e764-036f-40ca-aa61-03082dc282ab",
   "metadata": {},
   "outputs": [
    {
     "name": "stdout",
     "output_type": "stream",
     "text": [
      "1\n",
      "6\n",
      "Simplilearn\n"
     ]
    }
   ],
   "source": [
    "# for loop\n",
    "# Interage, com lista, tupla, array ou string\n",
    "x=[1,6,\"Simplilearn\"] #-> Aqui temos uma lista\n",
    "for i in x : #-> Enquanto tiver item na lista ela vai ser imprimida abaixo\n",
    "    print(i) #-> Imprime os itens da lista até o termino deles"
   ]
  },
  {
   "cell_type": "code",
   "execution_count": 26,
   "id": "55501c1d-8941-4f6d-9356-51cec1e392a7",
   "metadata": {},
   "outputs": [
    {
     "name": "stdout",
     "output_type": "stream",
     "text": [
      "1\n",
      "2\n",
      "3\n",
      "a\n",
      "b\n",
      "c\n",
      "123\n",
      "abc\n"
     ]
    }
   ],
   "source": [
    "# um loop ninhado\n",
    "# Vamos criar uma matrix de dados\n",
    "mtx_x=[[1,2,3],[\"a\",\"b\",\"c\"]]\n",
    "for i in mtx_x:\n",
    "    for j in i:\n",
    "        print(j)\n",
    "\n",
    "# Segundo modo\n",
    "mtx_x=[[1,2,3],[\"a\",\"b\",\"c\"]]\n",
    "for i in mtx_x:\n",
    "    for j in i:\n",
    "        print(j, end=\"\")\n",
    "    print()"
   ]
  },
  {
   "cell_type": "code",
   "execution_count": 30,
   "id": "592c0e55-ab03-4de2-b538-d613842b2828",
   "metadata": {},
   "outputs": [
    {
     "name": "stdout",
     "output_type": "stream",
     "text": [
      "Hey there"
     ]
    }
   ],
   "source": [
    "# Controles do LOOP\n",
    "x=\"Hey there. How are you?\"\n",
    "for i in x:\n",
    "    if i == \".\" :\n",
    "        break\n",
    "    print(i, end=\"\")"
   ]
  },
  {
   "cell_type": "code",
   "execution_count": 34,
   "id": "fbd45ad5-a104-4e60-996e-5877c54d90c4",
   "metadata": {},
   "outputs": [
    {
     "name": "stdout",
     "output_type": "stream",
     "text": [
      "1\n",
      "4\n",
      "6\n"
     ]
    }
   ],
   "source": [
    "# Vamos fazer um loop para imprimir os números  de uma lista\n",
    "# Então dentro do for eu posso ter uma forma de validar o que entrou se ajuda\n",
    "for i in [1,13,56,4,6]:\n",
    "    if i>10 : #-> Vai verificar se i é menor que 10 para continuar\n",
    "        continue\n",
    "    print(i)\n"
   ]
  }
 ],
 "metadata": {
  "kernelspec": {
   "display_name": "Python 3 (ipykernel)",
   "language": "python",
   "name": "python3"
  },
  "language_info": {
   "codemirror_mode": {
    "name": "ipython",
    "version": 3
   },
   "file_extension": ".py",
   "mimetype": "text/x-python",
   "name": "python",
   "nbconvert_exporter": "python",
   "pygments_lexer": "ipython3",
   "version": "3.9.6"
  }
 },
 "nbformat": 4,
 "nbformat_minor": 5
}
