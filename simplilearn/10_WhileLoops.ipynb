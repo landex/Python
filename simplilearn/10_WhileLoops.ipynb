{
 "cells": [
  {
   "cell_type": "code",
   "execution_count": 1,
   "id": "54c2dae4-8799-4919-87f5-52a543e912af",
   "metadata": {},
   "outputs": [
    {
     "name": "stdout",
     "output_type": "stream",
     "text": [
      "Simplilearn\n",
      "Simplilearn\n",
      "Simplilearn\n",
      "Simplilearn\n",
      "Simplilearn\n",
      "Simplilearn\n",
      "Simplilearn\n",
      "Simplilearn\n",
      "Simplilearn\n",
      "Simplilearn\n",
      "Simplilearn\n",
      "Simplilearn\n"
     ]
    }
   ],
   "source": [
    "# Agora vamos ver While Lopps\n",
    "i=0\n",
    "while i <=11:\n",
    "    print(\"Simplilearn\") #-> Imprimindo uma saída\n",
    "    i+=1\n"
   ]
  },
  {
   "cell_type": "code",
   "execution_count": 4,
   "id": "2c26081b-7a2e-47a6-8057-65d7a378441d",
   "metadata": {},
   "outputs": [
    {
     "name": "stdout",
     "output_type": "stream",
     "text": [
      "210\n"
     ]
    }
   ],
   "source": [
    "# Vamos somar os valores no loop while\n",
    "i=1\n",
    "sum=0\n",
    "while i<=20:\n",
    "    sum=sum+i #-> Desta forma vai ser somado todos os valores de 1 até 10 dando 55\n",
    "    i+=1\n",
    "print(sum)"
   ]
  },
  {
   "cell_type": "code",
   "execution_count": 8,
   "id": "6c0faf78-2805-4b57-a6f2-88acb9b9b7e4",
   "metadata": {},
   "outputs": [
    {
     "name": "stdout",
     "output_type": "stream",
     "text": [
      "30\n"
     ]
    }
   ],
   "source": [
    "# Agora vamos fazer um loop somente de números pares\n",
    "i=1\n",
    "sum=0\n",
    "while i<=10: #-> Os números menor igual a 10 vão entrar no loop\n",
    "    if i%2==0: #-> O código vai checar se o numero é dividido por 2 para poder entrar na incrementaçaõ\n",
    "        sum=sum+i\n",
    "    i+=1\n",
    "print(sum)"
   ]
  },
  {
   "cell_type": "code",
   "execution_count": 26,
   "id": "ef459f07-1083-45df-af4d-e62e0f3fa060",
   "metadata": {},
   "outputs": [
    {
     "name": "stdin",
     "output_type": "stream",
     "text": [
      "Type a number 101\n"
     ]
    },
    {
     "name": "stdout",
     "output_type": "stream",
     "text": [
      "1\n"
     ]
    }
   ],
   "source": [
    "# Novo loop\n",
    "number=int(input(\"Type a number\"))\n",
    "nbr=0\n",
    "while number%10!=0 :\n",
    "    count=number%10\n",
    "    nbr=nbr*10 + count\n",
    "    number=number//10 #-> Vai dar o resultado somente inteiro\n",
    "print(nbr)"
   ]
  },
  {
   "cell_type": "code",
   "execution_count": 35,
   "id": "ba7b7b34-5431-4b9c-8f28-3295e764d1d0",
   "metadata": {},
   "outputs": [
    {
     "name": "stdout",
     "output_type": "stream",
     "text": [
      "3\n"
     ]
    }
   ],
   "source": [
    "# Novo Loop com lista e usando o Try\n",
    "new_x_list = [1,2.3,\"Simplilearn\"]\n",
    "length=0\n",
    "i=0\n",
    "\n",
    "try: #-> Vai tentar essa ação de entrar no loop\n",
    "    while new_x_list[i]:\n",
    "        length+=1\n",
    "        i+=1\n",
    "except IndexError:\n",
    "    print(length)"
   ]
  },
  {
   "cell_type": "code",
   "execution_count": 4,
   "id": "e6845865-088d-4eee-91f8-f19c4f1582a4",
   "metadata": {},
   "outputs": [
    {
     "name": "stdin",
     "output_type": "stream",
     "text": [
      "Enter a number 5\n"
     ]
    },
    {
     "name": "stdout",
     "output_type": "stream",
     "text": [
      "1\n",
      "22\n",
      "333\n",
      "4444\n",
      "55555\n"
     ]
    }
   ],
   "source": [
    "number=int(input(\"Enter a number\"))\n",
    "i=1\n",
    "while i<=number:\n",
    "    j=1\n",
    "    while j<=i:#-> While ninhado\n",
    "        print(i,end='')\n",
    "        j+=1\n",
    "    i+=1\n",
    "    print()"
   ]
  },
  {
   "cell_type": "code",
   "execution_count": 10,
   "id": "d74cec8a-7f6c-4a06-9ccb-452a61840581",
   "metadata": {},
   "outputs": [
    {
     "name": "stdin",
     "output_type": "stream",
     "text": [
      "Enter a 4 digit number 1456\n"
     ]
    },
    {
     "name": "stdout",
     "output_type": "stream",
     "text": [
      "0 digits where guessed right\n"
     ]
    },
    {
     "name": "stdin",
     "output_type": "stream",
     "text": [
      "Enter a 4 digit number 7654\n"
     ]
    },
    {
     "name": "stdout",
     "output_type": "stream",
     "text": [
      "0 digits where guessed right\n"
     ]
    },
    {
     "name": "stdin",
     "output_type": "stream",
     "text": [
      "Enter a 4 digit number 2346\n"
     ]
    },
    {
     "name": "stdout",
     "output_type": "stream",
     "text": [
      "2 digits where guessed right\n"
     ]
    },
    {
     "name": "stdin",
     "output_type": "stream",
     "text": [
      "Enter a 4 digit number 2346\n"
     ]
    },
    {
     "name": "stdout",
     "output_type": "stream",
     "text": [
      "2 digits where guessed right\n"
     ]
    },
    {
     "name": "stdin",
     "output_type": "stream",
     "text": [
      "Enter a 4 digit number 1346\n"
     ]
    },
    {
     "name": "stdout",
     "output_type": "stream",
     "text": [
      "2 digits where guessed right\n"
     ]
    },
    {
     "name": "stdin",
     "output_type": "stream",
     "text": [
      "Enter a 4 digit number 1347\n"
     ]
    },
    {
     "name": "stdout",
     "output_type": "stream",
     "text": [
      "2 digits where guessed right\n"
     ]
    },
    {
     "name": "stdin",
     "output_type": "stream",
     "text": [
      "Enter a 4 digit number 0347\n"
     ]
    },
    {
     "name": "stdout",
     "output_type": "stream",
     "text": [
      "2 digits where guessed right\n"
     ]
    },
    {
     "name": "stdin",
     "output_type": "stream",
     "text": [
      "Enter a 4 digit number 2347\n"
     ]
    },
    {
     "name": "stdout",
     "output_type": "stream",
     "text": [
      "2 digits where guessed right\n"
     ]
    },
    {
     "name": "stdin",
     "output_type": "stream",
     "text": [
      "Enter a 4 digit number 3347\n"
     ]
    },
    {
     "name": "stdout",
     "output_type": "stream",
     "text": [
      "2 digits where guessed right\n"
     ]
    },
    {
     "name": "stdin",
     "output_type": "stream",
     "text": [
      "Enter a 4 digit number 4347\n"
     ]
    },
    {
     "name": "stdout",
     "output_type": "stream",
     "text": [
      "2 digits where guessed right\n"
     ]
    },
    {
     "name": "stdin",
     "output_type": "stream",
     "text": [
      "Enter a 4 digit number 1111\n"
     ]
    },
    {
     "name": "stdout",
     "output_type": "stream",
     "text": [
      "0 digits where guessed right\n"
     ]
    },
    {
     "name": "stdin",
     "output_type": "stream",
     "text": [
      "Enter a 4 digit number 5347\n"
     ]
    },
    {
     "name": "stdout",
     "output_type": "stream",
     "text": [
      "2 digits where guessed right\n"
     ]
    },
    {
     "name": "stdin",
     "output_type": "stream",
     "text": [
      "Enter a 4 digit number 6347\n"
     ]
    },
    {
     "name": "stdout",
     "output_type": "stream",
     "text": [
      "3 digits where guessed right\n"
     ]
    },
    {
     "name": "stdin",
     "output_type": "stream",
     "text": [
      "Enter a 4 digit number 6348\n"
     ]
    },
    {
     "name": "stdout",
     "output_type": "stream",
     "text": [
      "3 digits where guessed right\n"
     ]
    },
    {
     "name": "stdin",
     "output_type": "stream",
     "text": [
      "Enter a 4 digit number 6349\n"
     ]
    },
    {
     "name": "stdout",
     "output_type": "stream",
     "text": [
      "Congrats! You guessed it right\n"
     ]
    }
   ],
   "source": [
    "# Jogo para adivinhar um número\n",
    "import random\n",
    "nump=random.randint(1000,9999)\n",
    "\n",
    "number=int(input(\"Enter a 4 digit number\"))\n",
    "\n",
    "while number!=10 :\n",
    "    num=nump\n",
    "    cor=0\n",
    "    while num%10 :\n",
    "        numc=num%10\n",
    "        nc=number%10\n",
    "        num=num//10\n",
    "        number=number//10\n",
    "        if numc==nc:\n",
    "            cor=cor+1\n",
    "    if cor==4: #-> Ve se é igual os 4 números \n",
    "        print(\"Congrats! You guessed it right\")\n",
    "        break\n",
    "    else:\n",
    "        print(\"%d digits where guessed right\" %cor)\n",
    "        number=int(input(\"Enter a 4 digit number\"))\n",
    "else :\n",
    "    print (\"You quit the game\")\n",
    "    "
   ]
  }
 ],
 "metadata": {
  "kernelspec": {
   "display_name": "Python 3 (ipykernel)",
   "language": "python",
   "name": "python3"
  },
  "language_info": {
   "codemirror_mode": {
    "name": "ipython",
    "version": 3
   },
   "file_extension": ".py",
   "mimetype": "text/x-python",
   "name": "python",
   "nbconvert_exporter": "python",
   "pygments_lexer": "ipython3",
   "version": "3.9.6"
  }
 },
 "nbformat": 4,
 "nbformat_minor": 5
}
