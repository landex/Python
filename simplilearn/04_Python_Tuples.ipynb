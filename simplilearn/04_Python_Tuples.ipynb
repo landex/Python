{
 "cells": [
  {
   "cell_type": "code",
   "execution_count": 10,
   "id": "c9298880-c618-4975-9560-1e2644c67545",
   "metadata": {},
   "outputs": [
    {
     "name": "stdout",
     "output_type": "stream",
     "text": [
      "<class 'tuple'>\n",
      "()\n"
     ]
    }
   ],
   "source": [
    "# Trabalhano com tuplas em python\n",
    "# Tupla é uma coleção de objetos imutaveis\n",
    "# Todoso os elementos são indexados em uma poisição começando pela posição 0\n",
    "\n",
    "# Criando Tupla\n",
    "empty_tuple=()\n",
    "print(type(empty_tuple))\n",
    "print(empty_tuple)"
   ]
  },
  {
   "cell_type": "code",
   "execution_count": 6,
   "id": "1fac63d8-d89a-46df-85a5-bebb6ed270e1",
   "metadata": {},
   "outputs": [
    {
     "name": "stdout",
     "output_type": "stream",
     "text": [
      "<class 'tuple'>\n",
      "<class 'tuple'>\n"
     ]
    }
   ],
   "source": [
    "# Adicionando elementos na tupla\n",
    "city=\"Pune\", #-> Declaração implicita de uma tupla\n",
    "print(type(city))\n",
    "# Tamabém tem a explicita\n",
    "city_2=(\"Pume\",)\n",
    "print(type(city_2))\n"
   ]
  },
  {
   "cell_type": "code",
   "execution_count": 7,
   "id": "3d06d906-33c5-486d-b661-f68238e975e6",
   "metadata": {},
   "outputs": [
    {
     "name": "stdout",
     "output_type": "stream",
     "text": [
      "('Pune', 'Bangalore', 'Delhi', 'Mumbai')\n"
     ]
    }
   ],
   "source": [
    "# Criano uma nova tupla de cidades\n",
    "city_tuple=(\"Pune\",\"Bangalore\",\"Delhi\",\"Mumbai\")\n",
    "print(city_tuple)\n",
    "\n"
   ]
  },
  {
   "cell_type": "code",
   "execution_count": 10,
   "id": "b0949b41-388b-4705-99c8-fd89fc47e610",
   "metadata": {},
   "outputs": [
    {
     "name": "stdout",
     "output_type": "stream",
     "text": [
      "[1, 2, 3, 4, 5]\n"
     ]
    }
   ],
   "source": [
    "# Criando Lista e Tupla\n",
    "list_1=[1,2,3,4] #-> Lista\n",
    "tuple_1=(1,2,3,4) #-> Tuple\n",
    "list_1.append(5) #-> Conseguimos adicionar mais elementos na\n",
    "print(list_1)\n",
    "# tuple_1.append(5) #-> Não é possível adicionar mais elementos -> Vai retornar error"
   ]
  },
  {
   "cell_type": "code",
   "execution_count": 15,
   "id": "fe7bfe57-b8b6-4a01-9d3f-25e5c21174cc",
   "metadata": {},
   "outputs": [
    {
     "name": "stdout",
     "output_type": "stream",
     "text": [
      "('Pume', 'Bangalore', 'Delhi', 'Mumbai')\n",
      "Bangalore\n",
      "Mumbai\n"
     ]
    }
   ],
   "source": [
    "# Lista é mutável, Tupla é imutável\n",
    "# Lista usa Brackets que são os colchetes\n",
    "# Tupla pode usar ou não usar os parenteses\n",
    "print(city_tuple)\n",
    "print(city_tuple[1]) #-> Similaar com a lista se usa o colchetes para pegar os valores de acordo com a posição.\n",
    "print(city_tuple[-1]) #-> Vai pegar o último elemento da tupla"
   ]
  },
  {
   "cell_type": "code",
   "execution_count": 11,
   "id": "23bebcbb-1379-4c08-8dc1-5e66f1e6039f",
   "metadata": {},
   "outputs": [
    {
     "name": "stdout",
     "output_type": "stream",
     "text": [
      "('Pune', 'Bangalore', 'Delhi', 'Mumbai')\n",
      "(1, 2, 3, 4)\n",
      "<class 'tuple'>\n"
     ]
    },
    {
     "data": {
      "text/plain": [
       "('Pune', 'Bangalore', 'Delhi', 'Mumbai', 1, 2, 3, 4)"
      ]
     },
     "execution_count": 11,
     "metadata": {},
     "output_type": "execute_result"
    }
   ],
   "source": [
    "# Na tupla podemos utilizar a concatenação\n",
    "# Temos a nossa tupla de cidades\n",
    "print(city_tuple)\n",
    "# Vamos criar uma tupla de números\n",
    "number_tuple=1,2,3,4\n",
    "print(number_tuple)\n",
    "print(type(number_tuple))\n",
    "# Para concatenar usamos o sinal de mais\n",
    "city_tuple+number_tuple\n"
   ]
  },
  {
   "cell_type": "code",
   "execution_count": 12,
   "id": "e9f12f07-8123-41a4-8d77-98b7d5647e08",
   "metadata": {},
   "outputs": [
    {
     "name": "stdout",
     "output_type": "stream",
     "text": [
      "(('Pune', 'Bangalore', 'Delhi', 'Mumbai'), (1, 2, 3, 4))\n"
     ]
    }
   ],
   "source": [
    "# Nesting ainda não sei o que é\n",
    "nest=(city_tuple,number_tuple)\n",
    "print(nest)"
   ]
  },
  {
   "cell_type": "code",
   "execution_count": 13,
   "id": "1de0f32f-462e-4f1f-a46e-b5b2fe4dfd99",
   "metadata": {},
   "outputs": [
    {
     "name": "stdout",
     "output_type": "stream",
     "text": [
      "('Python', 'Python', 'Python', 'Python', 'Python')\n",
      "('Python', 'Python', 'Python', 'Python', 'Python', 'Python', 'Python')\n"
     ]
    }
   ],
   "source": [
    "# Repetição jeito 1\n",
    "repetion_tuple=(\"Python\",)*5  #-> Vai repetir esse elemento 5 vezes na tupla\n",
    "print(repetion_tuple)\n",
    "# Repetição jeito 2\n",
    "repetion_tuple_2=(\"Python\",) #-> Esse comando não vai mudar a tupla, vai só repetir o elemento\n",
    "print(repetion_tuple_2*7)"
   ]
  },
  {
   "cell_type": "code",
   "execution_count": 14,
   "id": "a4a08fd1-28d0-4d91-9320-e9eb4a7777a4",
   "metadata": {},
   "outputs": [
    {
     "name": "stdout",
     "output_type": "stream",
     "text": [
      "('Python', 'Python', 'Python', 'Python', 'Python')\n",
      "('Python',)\n"
     ]
    }
   ],
   "source": [
    "print(repetion_tuple)\n",
    "print(repetion_tuple_2)"
   ]
  },
  {
   "cell_type": "code",
   "execution_count": 15,
   "id": "390ab0fa-cbf7-4711-ab08-1913246b958f",
   "metadata": {},
   "outputs": [
    {
     "name": "stdout",
     "output_type": "stream",
     "text": [
      "(1, 2, 3, 4)\n",
      "(2, 3, 4)\n",
      "(4, 3, 2, 1)\n"
     ]
    }
   ],
   "source": [
    "# Slicing, seria o fatiamento do array da tupla e listas...\n",
    "number_tuple_again=(1,2,3,4)\n",
    "print(number_tuple_again)\n",
    "print(number_tuple_again[1:]) #-< Vai imprimir da posição 1 em diante\n",
    "print(number_tuple_again[::-1]) #-> Vai imprimir a tupla ao contratio"
   ]
  },
  {
   "cell_type": "code",
   "execution_count": 19,
   "id": "4db01796-0898-4bd1-931e-e8b34e929279",
   "metadata": {},
   "outputs": [
    {
     "name": "stdout",
     "output_type": "stream",
     "text": [
      "(1, 2, 3, 4)\n",
      "1 2 3 4\n",
      "(1, 2, 3, 4)\n",
      "1 [2, 3] 4\n"
     ]
    }
   ],
   "source": [
    "# Desempacotando a lista ou Unpacking\n",
    "tuple(\"Simplilearn\") #-> Transforma cada caracter em um elemento da dupla\n",
    "\n",
    "# Minha tupla de números\n",
    "print(number_tuple)\n",
    "# Transportando o elemento de uma tupla para outra variável\n",
    "a,b,c,d=number_tuple #-> Estou atribuindo as variáveis abcd para minha tupla\n",
    "print(a,b,c,d)\n",
    "print(number_tuple)\n",
    "\n",
    "a,*b,c=number_tuple\n",
    "print(a,b,c)"
   ]
  },
  {
   "cell_type": "code",
   "execution_count": 23,
   "id": "b8c6cb37-b04f-44e5-a446-caff54daebb3",
   "metadata": {},
   "outputs": [
    {
     "ename": "NameError",
     "evalue": "name 'number_tuple' is not defined",
     "output_type": "error",
     "traceback": [
      "\u001b[1;31m---------------------------------------------------------------------------\u001b[0m",
      "\u001b[1;31mNameError\u001b[0m                                 Traceback (most recent call last)",
      "\u001b[1;32m~\\AppData\\Local\\Temp/ipykernel_3220/1819477835.py\u001b[0m in \u001b[0;36m<module>\u001b[1;34m\u001b[0m\n\u001b[0;32m      1\u001b[0m \u001b[1;31m# Delete a tupla\u001b[0m\u001b[1;33m\u001b[0m\u001b[1;33m\u001b[0m\u001b[1;33m\u001b[0m\u001b[0m\n\u001b[1;32m----> 2\u001b[1;33m \u001b[0mprint\u001b[0m\u001b[1;33m(\u001b[0m\u001b[0mnumber_tuple\u001b[0m\u001b[1;33m)\u001b[0m\u001b[1;33m\u001b[0m\u001b[1;33m\u001b[0m\u001b[0m\n\u001b[0m\u001b[0;32m      3\u001b[0m \u001b[1;32mdel\u001b[0m \u001b[0mnumber_tuple\u001b[0m \u001b[1;31m#-> Com esse comndo estamos deletando a tupla\u001b[0m\u001b[1;33m\u001b[0m\u001b[1;33m\u001b[0m\u001b[0m\n\u001b[0;32m      4\u001b[0m \u001b[0mprint\u001b[0m\u001b[1;33m(\u001b[0m\u001b[0mnumber_tuple\u001b[0m\u001b[1;33m)\u001b[0m \u001b[1;31m#-> Vai retornar erro pois a tupla não existe mais\u001b[0m\u001b[1;33m\u001b[0m\u001b[1;33m\u001b[0m\u001b[0m\n",
      "\u001b[1;31mNameError\u001b[0m: name 'number_tuple' is not defined"
     ]
    }
   ],
   "source": [
    "# Delete a tupla\n",
    "print(number_tuple)\n",
    "del number_tuple #-> Com esse comndo estamos deletando a tupla\n",
    "print(number_tuple) #-> Vai retornar erro pois a tupla não existe mais"
   ]
  },
  {
   "cell_type": "code",
   "execution_count": 30,
   "id": "95539c26-66a1-4951-9843-b2010e6c901f",
   "metadata": {},
   "outputs": [
    {
     "name": "stdout",
     "output_type": "stream",
     "text": [
      "(3, 5, 2, 2, 2, 2, 6, 5, 8)\n",
      "4\n",
      "35\n",
      "9\n",
      "8\n",
      "2\n"
     ]
    }
   ],
   "source": [
    "# Funções com tuplas\n",
    "new_tuple=(3,5,2,2,2,2,6,5,8)\n",
    "print(new_tuple)\n",
    "\n",
    "# Para contar os elementos na tupla\n",
    "print(new_tuple.count(2)) #-> Vai contar quantos números 2 tem na tupla\n",
    "print(sum(new_tuple)) #-> soma todos os elementos da tupla\n",
    "print(len(new_tuple)) #-> Verifica o tamanho da tupla\n",
    "print(max(new_tuple)) #-> Retorna o maior número da tupla\n",
    "print(min(new_tuple)) #-> Retorna o menor valor da tupla\n"
   ]
  },
  {
   "cell_type": "code",
   "execution_count": 33,
   "id": "79f0836d-756c-4661-911c-037186fc4b00",
   "metadata": {},
   "outputs": [
    {
     "name": "stdout",
     "output_type": "stream",
     "text": [
      "[1, 2, 3, 4]\n",
      "<class 'list'>\n",
      "(1, 2, 3, 4)\n",
      "<class 'tuple'>\n"
     ]
    }
   ],
   "source": [
    "# Convertendo listas para tuplas\n",
    "new_list=[1,2,3,4]\n",
    "print(new_list)\n",
    "print(type(new_list))\n",
    "\n",
    "# Para converter a lista para tupla\n",
    "new_tuple=tuple(new_list)\n",
    "print(new_tuple)\n",
    "print(type(new_tuple))"
   ]
  },
  {
   "cell_type": "code",
   "execution_count": 36,
   "id": "d3949b2e-1a88-4c46-abe7-48f76f914d42",
   "metadata": {},
   "outputs": [
    {
     "name": "stdout",
     "output_type": "stream",
     "text": [
      "[(1, 2, 3), (4, 5, 6)]\n",
      "[(1, 2, 3), (4, 5, 6), ('Tuple', 'Inside', 'List')]\n",
      "[(4, 5, 6), ('Tuple', 'Inside', 'List')]\n"
     ]
    }
   ],
   "source": [
    "# Aninhamento de tuplas em lista\n",
    "new_list=[(1,2,3),(4,5,6)]\n",
    "print(new_list)\n",
    "# modificando a lista\n",
    "new_list.append((\"Tuple\",\"Inside\",\"List\"))\n",
    "print(new_list)\n",
    "# Para remover a tupla da lista, usa-se aa função de remover\n",
    "new_list.remove((1,2,3))\n",
    "print(new_list)"
   ]
  },
  {
   "cell_type": "code",
   "execution_count": 41,
   "id": "b66deebf-14bc-4ae1-9dae-2eb6c9aeb4e1",
   "metadata": {},
   "outputs": [
    {
     "name": "stdout",
     "output_type": "stream",
     "text": [
      "(['a', 'b', 'c'], ['d', 'e', 'f'])\n",
      "(['a', 'b', 'c', 'z'], ['d', 'e', 'f'])\n",
      "(['a', 'b', 'c'], ['d', 'e', 'f'])\n"
     ]
    }
   ],
   "source": [
    "# Aninhamento de tuplas com lista\n",
    "new_tuple=(['a','b','c'],['d','e','f'])\n",
    "print(new_tuple)\n",
    "# para acessar o primeiro elemento da tupla\n",
    "new_tuple[0].append('z') #-> Vou colocar na tupla \n",
    "print(new_tuple)\n",
    "# Agora vamos remover um elemento da tupla\n",
    "new_tuple[0].remove('z') #-> Removeno a letra Z\n",
    "print(new_tuple)"
   ]
  }
 ],
 "metadata": {
  "kernelspec": {
   "display_name": "Python 3 (ipykernel)",
   "language": "python",
   "name": "python3"
  },
  "language_info": {
   "codemirror_mode": {
    "name": "ipython",
    "version": 3
   },
   "file_extension": ".py",
   "mimetype": "text/x-python",
   "name": "python",
   "nbconvert_exporter": "python",
   "pygments_lexer": "ipython3",
   "version": "3.9.6"
  }
 },
 "nbformat": 4,
 "nbformat_minor": 5
}
