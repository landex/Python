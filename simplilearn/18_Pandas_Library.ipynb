{
 "cells": [
  {
   "cell_type": "code",
   "execution_count": 1,
   "source": [
    "# Vamos trabalhar com a biblioteca pandas\r\n",
    "# É uma ferramenta para processamento de dados\r\n",
    "# Provem metodos e funções para a manipulação de grande quantidade de dados\r\n",
    "# Arrays e uma dimensão\r\n",
    "# Ou de duas dimensões\r\n",
    "# One Dimensional, integer, strings, floats, Python objects and more\r\n",
    "# DataFrame é two-dimensional estrutura de dados com rotulos\r\n",
    "import pandas as pd #-> Importando\r\n",
    "print(pd.__version__) #-> Verificando a versão do pandas\r\n",
    "# Criando uma serie de uma lista\r\n",
    "arr = [0, 1, 2, 3, 4]\r\n",
    "s1 = pd.Series(arr)\r\n"
   ],
   "outputs": [
    {
     "output_type": "stream",
     "name": "stdout",
     "text": [
      "1.3.2\n"
     ]
    }
   ],
   "metadata": {}
  }
 ],
 "metadata": {
  "orig_nbformat": 4,
  "language_info": {
   "name": "python",
   "version": "3.9.6",
   "mimetype": "text/x-python",
   "codemirror_mode": {
    "name": "ipython",
    "version": 3
   },
   "pygments_lexer": "ipython3",
   "nbconvert_exporter": "python",
   "file_extension": ".py"
  },
  "kernelspec": {
   "name": "python3",
   "display_name": "Python 3.9.6 64-bit"
  },
  "interpreter": {
   "hash": "ad0535b952be1423b26732a49bfe6acbb13cf85c02af98c1eb35a3250f3735c6"
  }
 },
 "nbformat": 4,
 "nbformat_minor": 2
}