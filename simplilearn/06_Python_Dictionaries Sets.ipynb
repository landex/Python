{
 "cells": [
  {
   "cell_type": "code",
   "execution_count": 20,
   "id": "eb618791-4dda-4d7e-89f7-244c03f2e7d8",
   "metadata": {},
   "outputs": [
    {
     "name": "stdout",
     "output_type": "stream",
     "text": [
      "{}\n",
      "{1: 'Welcome', 2: 'to', 3: 'Python', 4: 'Tutorial'}\n",
      "{'name': 'Landi', 'age': 35, 'profession': 'Test Analyst'}\n",
      "{1: 'Welcome', 2: 'to', 3: 'Python', 4: 'Tutorial'}\n",
      "[(1, 'Welcome'), (2, 'to'), (3, 'Python'), (4, 'Tutorial')]\n",
      "{'name': {'first_name': 'Landi', 'last_name': 'Leite'}, 'age': 35, 'profession': 'Test Analyst'}\n"
     ]
    }
   ],
   "source": [
    "# Dicionários em Python\n",
    "# Dicionários em Python é uma coleção de dados guarados em python\n",
    "# Você define uma chave para o dicionario, e trabalha com essa chave\n",
    "# Criando um dicionáio\n",
    "dict_1={} #-> Criando um dicionário vazio\n",
    "print(dict_1)\n",
    "\n",
    "# Criando um dicionário com elementos\n",
    "dictionary={1:\"Welcome\", 2:\"to\", 3:\"Python\", 4:\"Tutorial\"} #-> Os números são index(chaves) strings os valores\n",
    "print(dictionary)\n",
    "\n",
    "new_dictionary={\"name\":\"Landi\", \"age\":35, \"profession\":\"Test Analyst\"} #-> As chaves são strings agora\n",
    "print(new_dictionary)\n",
    "\n",
    "other_new_dictionary=({1:\"Welcome\", 2:\"to\", 3:\"Python\", 4:\"Tutorial\"})\n",
    "print(other_new_dictionary) #-> Outro dicionário de dados\n",
    "\n",
    "more_dictionary=([(1,\"Welcome\"), (2,\"to\"), (3,\"Python\"), (4,\"Tutorial\")]) #-> Desta forma fica parecido com lista\n",
    "print(more_dictionary)\n",
    "\n",
    "# Criando um novo dicionário com chaves dentro de outras chaves\n",
    "key_with_key_dictionary={\"name\":{\"first_name\":\"Landi\", \"last_name\":\"Leite\"}, \"age\":35, \"profession\":\"Test Analyst\"}\n",
    "print(key_with_key_dictionary)\n",
    "               "
   ]
  },
  {
   "cell_type": "code",
   "execution_count": 23,
   "id": "f01b9356-efc5-4dde-b567-1530a225e35d",
   "metadata": {},
   "outputs": [
    {
     "name": "stdout",
     "output_type": "stream",
     "text": [
      "{}\n",
      "{0: 'Welcome'}\n",
      "{}\n",
      "{'name': 'Landi'}\n"
     ]
    }
   ],
   "source": [
    "# Adicionando Elementos ao dicionário\n",
    "dici={} #-> Sem elementos\n",
    "print(dici)\n",
    "dici[0]=\"Welcome\" #-> Adicionando o elemento usando números como chaves no dicionário\n",
    "print(dici)\n",
    "dici_2={}\n",
    "print(dici_2)\n",
    "dici_2[\"name\"]=\"Landi\" #-> Adicionando o elemento usando strings como chaves no dicionario\n",
    "print(dici_2)"
   ]
  },
  {
   "cell_type": "code",
   "execution_count": 24,
   "id": "f2e36848-3ede-43d2-844a-3291701abfa4",
   "metadata": {},
   "outputs": [
    {
     "name": "stdout",
     "output_type": "stream",
     "text": [
      "{}\n",
      "{0: 'Welcome'}\n",
      "{0: 'Welcome', 1: ('How', 'are', 'you')}\n",
      "{0: 'Welcome', 1: ('How', 'are', 'you'), 'name': 'Landi'}\n",
      "{0: 'Welcome', 1: ('How', 'are', 'you'), 'name': {'first_name': 'Landi', 'last_name': 'Leite'}}\n"
     ]
    }
   ],
   "source": [
    "# Criando um novo dicionário e adicionando uma tupla nele\n",
    "dici_0={} #-> Está sem elemento\n",
    "print(dici_0)\n",
    "# adicionando um elemento na chave 0\n",
    "dici_0[0]=\"Welcome\"\n",
    "print(dici_0)\n",
    "# Adicionando uma tupla na chave 1\n",
    "dici_0[1]=(\"How\", \"are\",\"you\")\n",
    "print(dici_0)\n",
    "# Adicionando elementos novos\n",
    "dici_0[\"name\"]=\"Landi\" #-> Foi adicionado ao fim do dicionario uma nova chave name com um valor novo\n",
    "# Na impressão deste dicionário temos então 0 e 1 como chaves númericas e name como uma string chave\n",
    "print(dici_0)\n",
    "\n",
    "# Atualizando os valores de uma chave com outro chave em um dicionario\n",
    "dici_0[\"name\"]={\"first_name\":\"Landi\", \"last_name\":\"Leite\"}\n",
    "print(dici_0) #-> Agora temos a nova chave adicionada"
   ]
  },
  {
   "cell_type": "code",
   "execution_count": 25,
   "id": "92ce9904-3013-48b9-9aac-d7208033e46b",
   "metadata": {},
   "outputs": [
    {
     "name": "stdout",
     "output_type": "stream",
     "text": [
      "{0: 'Welcome', 1: ('How', 'are', 'you'), 'name': {'first_name': 'Landi', 'last_name': 'Leite'}}\n",
      "{'first_name': 'Landi', 'last_name': 'Leite'}\n",
      "Landi\n"
     ]
    }
   ],
   "source": [
    "# Acessando elementos em um dicionario\n",
    "# É parecido com o que usamos em listas\n",
    "print(dici_0) #-> Mostrando os valores do dicionário\n",
    "# Imprimindo um valor especifico\n",
    "print(dici_0[\"name\"]) #-> Vai imprimir os valores da chanve name no caso o first and last name\n",
    "# Trazendo o valor que de uma chave que está dentro de outra chave\n",
    "print(dici_0[\"name\"][\"first_name\"])#-> Neste caso vai imprimir o valor dentro de first_name\n"
   ]
  },
  {
   "cell_type": "code",
   "execution_count": 5,
   "id": "237df7a0-e117-442a-8d05-702b32597151",
   "metadata": {},
   "outputs": [
    {
     "name": "stdout",
     "output_type": "stream",
     "text": [
      "{0: 'Welcome', 1: ('How', 'are', 'you'), 'name': {'first_name': 'Landi', 'last_name': 'Leite'}}\n",
      "('How', 'are', 'you')\n",
      "{1: ('How', 'are', 'you'), 'name': {'first_name': 'Landi', 'last_name': 'Leite'}}\n"
     ]
    }
   ],
   "source": [
    "# Outros métodos utilizados em dicionarios\n",
    "print(dici_0)\n",
    "# Método GET\n",
    "print(dici_0.get(1)) #-> Vai imprimir o conteúdo da chave 1\n",
    "# Método DELETE\n",
    "dici_0.pop(0) #-> Vai ser deletado o valor da chave 0\n",
    "print(dici_0) "
   ]
  },
  {
   "cell_type": "code",
   "execution_count": 6,
   "id": "bfacb09a-ee52-40d8-9c62-8b72f01797f7",
   "metadata": {},
   "outputs": [
    {
     "name": "stdout",
     "output_type": "stream",
     "text": [
      "{1: ('How', 'are', 'you'), 'name': {'first_name': 'Landi', 'last_name': 'Leite'}}\n",
      "{1: ('How', 'are', 'you')}\n"
     ]
    }
   ],
   "source": [
    "# Outro método para deleção é o popitem\n",
    "# Você pode definir, se não definir vai ser deletado o último elemento\n",
    "print(dici_0)\n",
    "dici_0.popitem() #-> Neste caso é deletado o último elemento\n",
    "print(dici_0)"
   ]
  },
  {
   "cell_type": "code",
   "execution_count": 26,
   "id": "45b72d85-fbf3-473f-844c-7a0faa966665",
   "metadata": {},
   "outputs": [
    {
     "name": "stdout",
     "output_type": "stream",
     "text": [
      "{0: 'Welcome', 1: ('How', 'are', 'you'), 'name': {'first_name': 'Landi', 'last_name': 'Leite'}}\n"
     ]
    },
    {
     "data": {
      "text/plain": [
       "dict_values(['Welcome', ('How', 'are', 'you'), {'first_name': 'Landi', 'last_name': 'Leite'}])"
      ]
     },
     "execution_count": 26,
     "metadata": {},
     "output_type": "execute_result"
    }
   ],
   "source": [
    "# Outras funções\n",
    "print(dici_0)\n",
    "dici_0.values()"
   ]
  },
  {
   "cell_type": "code",
   "execution_count": 16,
   "id": "3ff92990-bb36-4308-80a9-639327cb679b",
   "metadata": {},
   "outputs": [
    {
     "data": {
      "text/plain": [
       "{'b': 1, 'd': 1, 'c': 1, 'a': 1}"
      ]
     },
     "execution_count": 16,
     "metadata": {},
     "output_type": "execute_result"
    }
   ],
   "source": [
    "# Criando dicionario com chaves e valores em pontos distintos \n",
    "keys={'a','b','c','d'}\n",
    "value=1\n",
    "dict.fromkeys(keys,value)\n"
   ]
  },
  {
   "cell_type": "code",
   "execution_count": 18,
   "id": "da6b510c-227e-46cb-9369-39f9ff19a203",
   "metadata": {},
   "outputs": [
    {
     "name": "stdout",
     "output_type": "stream",
     "text": [
      "{0: 'Welcome', 1: ('How', 'are', 'you'), 'name': {'first_name': 'Landi', 'last_name': 'Leite'}}\n",
      "{}\n"
     ]
    }
   ],
   "source": [
    "# Metodo para limpar o dicionário\n",
    "print(dici_0)\n",
    "dici_0.clear()\n",
    "print(dici_0)"
   ]
  },
  {
   "cell_type": "code",
   "execution_count": 31,
   "id": "e4855c65-8389-47a9-92ab-96064989e2de",
   "metadata": {},
   "outputs": [
    {
     "name": "stdout",
     "output_type": "stream",
     "text": [
      "{1, 2, 3, 4}\n",
      "<class 'set'>\n",
      "{1, 2, 3, 4, 'a'}\n"
     ]
    }
   ],
   "source": [
    "# Usando set no python, é uma coleção unica de elementos fora e ordem\n",
    "# Exemplo\n",
    "set_var=set([1,2,3,4])\n",
    "print(set_var)\n",
    "print(type(set_var))\n",
    "\n",
    "# Podemos ter vários tipos de elementos.\n",
    "set_var.add('a') #-> Vai adicionar no fim do set\n",
    "print(set_var)"
   ]
  },
  {
   "cell_type": "code",
   "execution_count": 34,
   "id": "7b40ef00-597d-4b42-919d-5bc890702025",
   "metadata": {},
   "outputs": [
    {
     "name": "stdout",
     "output_type": "stream",
     "text": [
      "frozenset({1, 2, 3, 4})\n"
     ]
    }
   ],
   "source": [
    "# Criando um ser congelado\n",
    "frozen_var=frozenset([1,2,3,4]) #-> Depois e criado não é possivel editar\n",
    "print(frozen_var)\n"
   ]
  },
  {
   "cell_type": "code",
   "execution_count": 45,
   "id": "847f9650-f0af-4192-98e1-3f7d2e19d6fd",
   "metadata": {},
   "outputs": [
    {
     "name": "stdout",
     "output_type": "stream",
     "text": [
      "set one= {1, 3, 5, 7, 9}\n",
      "set_two= {0, 2, 4, 6, 8}\n",
      "{1, 3, 5, 7, 9}\n"
     ]
    }
   ],
   "source": [
    "# Criando 2 sets\n",
    "set_one=set([1,3,5,7,9])\n",
    "set_two=set([0,2,4,6,8])\n",
    "print('set one=',set_one)\n",
    "print('set_two=',set_two)\n",
    "\n",
    "# Realizando a União dos SETS\n",
    "set_one.union(set_two) #-> Agora os SETS estão unidos, por serem valores diferentes todos fica os 10 elementos\n",
    "print(set_one)"
   ]
  },
  {
   "cell_type": "code",
   "execution_count": 50,
   "id": "4e107ac2-58fa-445f-a73b-31f0839f0e8f",
   "metadata": {},
   "outputs": [
    {
     "name": "stdout",
     "output_type": "stream",
     "text": [
      "{0, 1, 2, 3, 5, 6, 8, 9}\n",
      "{0, 1, 2, 4, 5, 7, 8, 9}\n",
      "{3, 6}\n"
     ]
    }
   ],
   "source": [
    "# Agora com SETS com valores iguais\n",
    "set_one_two=set([1,2,3,5,6,8,9,0])\n",
    "set_two_two=set([1,2,4,5,7,8,9,0])\n",
    "print(set_one_two)\n",
    "print(set_two_two)\n",
    "# Realizando a uniãop dos sets\n",
    "set_one_two.union(set_two_two) #-> Não vai se repetir os elementos\n",
    "# Para imprimir os elementos diferentes dos sets\n",
    "print(set_one_two.difference(set_two_two))\n"
   ]
  }
 ],
 "metadata": {
  "kernelspec": {
   "display_name": "Python 3 (ipykernel)",
   "language": "python",
   "name": "python3"
  },
  "language_info": {
   "codemirror_mode": {
    "name": "ipython",
    "version": 3
   },
   "file_extension": ".py",
   "mimetype": "text/x-python",
   "name": "python",
   "nbconvert_exporter": "python",
   "pygments_lexer": "ipython3",
   "version": "3.9.6"
  }
 },
 "nbformat": 4,
 "nbformat_minor": 5
}
