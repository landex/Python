{
 "cells": [
  {
   "cell_type": "code",
   "execution_count": 6,
   "source": [
    "import pandas as pd\r\n",
    "import numpy as np\r\n",
    "# Criando meu primeiro dataframe\r\n",
    "dates=pd.date_range('today', periods=6) #-> Define temmpo nas sequencia\r\n",
    "#print(dates)\r\n",
    "num_arr=np.random.randn(6,4) #-> Importando um arrai randomico\r\n",
    "columns=['A','B','C','D'] #-> Nome das colunas\r\n",
    "\r\n",
    "df1 = pd.DataFrame(num_arr, index=dates, columns=columns)\r\n",
    "print(df1)"
   ],
   "outputs": [
    {
     "output_type": "stream",
     "name": "stdout",
     "text": [
      "                                   A         B         C         D\n",
      "2021-08-22 09:43:17.113221 -2.443350 -0.434768 -1.039988 -0.427775\n",
      "2021-08-23 09:43:17.113221  1.703385 -0.185992  0.311725  1.460817\n",
      "2021-08-24 09:43:17.113221  0.093967 -1.425224  0.744900 -1.251035\n",
      "2021-08-25 09:43:17.113221 -0.275996 -0.654260 -0.617975  2.151970\n",
      "2021-08-26 09:43:17.113221  0.956551  0.821121  0.332249  1.484581\n",
      "2021-08-27 09:43:17.113221 -0.467557 -2.147252 -0.441417 -0.148353\n"
     ]
    }
   ],
   "metadata": {}
  },
  {
   "cell_type": "code",
   "execution_count": 15,
   "source": [
    "# Criando um dataframe com dicionario\r\n",
    "data = {'animal': ['cat', 'cat', 'snake', 'dog', 'dog', 'cat', 'sanke', 'cat', 'dog', 'dog'],\r\n",
    "           'age': [2.5, 3, 0.5, np.nan, 5, 2, 4.5, np.nan, 7, 3],\r\n",
    "        'visits': [1, 3, 2, 3, 2, 3, 1, 1, 2, 1],\r\n",
    "      'priority': ['yes','yes', 'no', 'yes', 'no', 'no', 'no', 'yes', 'no', 'no' ]}\r\n",
    "\r\n",
    "# Criando os labels\r\n",
    "labels = ['a', 'b', 'c', 'd', 'e', 'f', 'g', 'h', 'i', 'j']\r\n",
    "\r\n",
    "df2 = pd.DataFrame(data, index=labels)\r\n",
    "\r\n",
    "print(df2)\r\n",
    "\r\n"
   ],
   "outputs": [
    {
     "output_type": "stream",
     "name": "stdout",
     "text": [
      "  animal  age  visits priority\n",
      "a    cat  2.5       1      yes\n",
      "b    cat  3.0       3      yes\n",
      "c  snake  0.5       2       no\n",
      "d    dog  NaN       3      yes\n",
      "e    dog  5.0       2       no\n",
      "f    cat  2.0       3       no\n",
      "g  sanke  4.5       1       no\n",
      "h    cat  NaN       1      yes\n",
      "i    dog  7.0       2       no\n",
      "j    dog  3.0       1       no\n"
     ]
    }
   ],
   "metadata": {}
  },
  {
   "cell_type": "code",
   "execution_count": 13,
   "source": [
    "print(df2.dtypes) #-> Mostra os tipos de dados"
   ],
   "outputs": [
    {
     "output_type": "stream",
     "name": "stdout",
     "text": [
      "animal       object\n",
      "age         float64\n",
      "visits        int64\n",
      "priority     object\n",
      "dtype: object\n"
     ]
    }
   ],
   "metadata": {}
  },
  {
   "cell_type": "code",
   "execution_count": 14,
   "source": [
    "print(df2.head(6)) #-> vai imprimir os 6 primeiros"
   ],
   "outputs": [
    {
     "output_type": "stream",
     "name": "stdout",
     "text": [
      "  animal  age  visits priority\n",
      "a    cat  2.5       1      yes\n",
      "b    cat  3.0       3      yes\n",
      "c  snake  0.5       2       no\n",
      "d    dog  NaN       3      yes\n",
      "e    dog  5.0       2       no\n",
      "f    cat  2.0       3       no\n"
     ]
    }
   ],
   "metadata": {}
  },
  {
   "cell_type": "code",
   "execution_count": 16,
   "source": [
    "print(df2.tail(3)) #-> Vai imprimir os últimos elementos no caso aqui os 3 últimos"
   ],
   "outputs": [
    {
     "output_type": "stream",
     "name": "stdout",
     "text": [
      "  animal  age  visits priority\n",
      "h    cat  NaN       1      yes\n",
      "i    dog  7.0       2       no\n",
      "j    dog  3.0       1       no\n"
     ]
    }
   ],
   "metadata": {}
  },
  {
   "cell_type": "code",
   "execution_count": 20,
   "source": [
    "print(df2.index) #-> Vai mostrar o index\r\n",
    "print(df2.columns) # Vai mostrar as colunas\r\n",
    "print(df2.values) #-> Vai imprimir os valores"
   ],
   "outputs": [
    {
     "output_type": "stream",
     "name": "stdout",
     "text": [
      "Index(['a', 'b', 'c', 'd', 'e', 'f', 'g', 'h', 'i', 'j'], dtype='object')\n",
      "Index(['animal', 'age', 'visits', 'priority'], dtype='object')\n",
      "[['cat' 2.5 1 'yes']\n",
      " ['cat' 3.0 3 'yes']\n",
      " ['snake' 0.5 2 'no']\n",
      " ['dog' nan 3 'yes']\n",
      " ['dog' 5.0 2 'no']\n",
      " ['cat' 2.0 3 'no']\n",
      " ['sanke' 4.5 1 'no']\n",
      " ['cat' nan 1 'yes']\n",
      " ['dog' 7.0 2 'no']\n",
      " ['dog' 3.0 1 'no']]\n"
     ]
    }
   ],
   "metadata": {}
  },
  {
   "cell_type": "code",
   "execution_count": 22,
   "source": [
    "print(df2.describe())"
   ],
   "outputs": [
    {
     "output_type": "stream",
     "name": "stdout",
     "text": [
      "            age     visits\n",
      "count  8.000000  10.000000\n",
      "mean   3.437500   1.900000\n",
      "std    2.007797   0.875595\n",
      "min    0.500000   1.000000\n",
      "25%    2.375000   1.000000\n",
      "50%    3.000000   2.000000\n",
      "75%    4.625000   2.750000\n",
      "max    7.000000   3.000000\n"
     ]
    }
   ],
   "metadata": {}
  },
  {
   "cell_type": "code",
   "execution_count": 23,
   "source": [
    "print(df2.T)"
   ],
   "outputs": [
    {
     "output_type": "stream",
     "name": "stdout",
     "text": [
      "            a    b      c    d    e    f      g    h    i    j\n",
      "animal    cat  cat  snake  dog  dog  cat  sanke  cat  dog  dog\n",
      "age       2.5  3.0    0.5  NaN  5.0  2.0    4.5  NaN  7.0  3.0\n",
      "visits      1    3      2    3    2    3      1    1    2    1\n",
      "priority  yes  yes     no  yes   no   no     no  yes   no   no\n"
     ]
    }
   ],
   "metadata": {}
  },
  {
   "cell_type": "code",
   "execution_count": 31,
   "source": [
    "print(df2.sort_values(by='age')) #-> Vai organizar pela idade\r\n",
    "print(\"\\n**********\\n\")\r\n",
    "print(df2.sort_values(by='visits')) #-> Vai organizar pela visitas"
   ],
   "outputs": [
    {
     "output_type": "stream",
     "name": "stdout",
     "text": [
      "  animal  age  visits priority\n",
      "c  snake  0.5       2       no\n",
      "f    cat  2.0       3       no\n",
      "a    cat  2.5       1      yes\n",
      "b    cat  3.0       3      yes\n",
      "j    dog  3.0       1       no\n",
      "g  sanke  4.5       1       no\n",
      "e    dog  5.0       2       no\n",
      "i    dog  7.0       2       no\n",
      "d    dog  NaN       3      yes\n",
      "h    cat  NaN       1      yes\n",
      "\n",
      "**********\n",
      "\n",
      "  animal  age  visits priority\n",
      "a    cat  2.5       1      yes\n",
      "g  sanke  4.5       1       no\n",
      "h    cat  NaN       1      yes\n",
      "j    dog  3.0       1       no\n",
      "c  snake  0.5       2       no\n",
      "e    dog  5.0       2       no\n",
      "i    dog  7.0       2       no\n",
      "b    cat  3.0       3      yes\n",
      "d    dog  NaN       3      yes\n",
      "f    cat  2.0       3       no\n"
     ]
    }
   ],
   "metadata": {}
  }
 ],
 "metadata": {
  "orig_nbformat": 4,
  "language_info": {
   "name": "python",
   "version": "3.9.6",
   "mimetype": "text/x-python",
   "codemirror_mode": {
    "name": "ipython",
    "version": 3
   },
   "pygments_lexer": "ipython3",
   "nbconvert_exporter": "python",
   "file_extension": ".py"
  },
  "kernelspec": {
   "name": "python3",
   "display_name": "Python 3.9.6 64-bit"
  },
  "interpreter": {
   "hash": "ad0535b952be1423b26732a49bfe6acbb13cf85c02af98c1eb35a3250f3735c6"
  }
 },
 "nbformat": 4,
 "nbformat_minor": 2
}