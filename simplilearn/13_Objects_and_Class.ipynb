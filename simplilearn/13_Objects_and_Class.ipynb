{
 "cells": [
  {
   "cell_type": "code",
   "execution_count": 9,
   "source": [
    "# Classes e objetos em python\r\n",
    "class Person :\r\n",
    "\r\n",
    "    def __init__(self): #-> construtor\r\n",
    "            self.name=\"Sam\"\r\n",
    "            self.gender=\"Male\"\r\n",
    "            self.age=22\r\n",
    "\r\n",
    "    def talk(self) :#-> Comportamento da classe\r\n",
    "        print(\"Hi I'm\", self.name)\r\n",
    "    \r\n",
    "    def vote(self): #-> Outro comportamento da classe\r\n",
    "        if self.age<= 15 :\r\n",
    "            print(\"I am not elegible to vote\")\r\n",
    "        else :\r\n",
    "            print(\"I am elegible to vote\")\r\n",
    "    \r\n",
    "obj=Person() #-> Criando o objeto\r\n",
    "Person.talk(obj) # Chama os atributos da classe\r\n",
    "Person.vote(obj)\r\n"
   ],
   "outputs": [
    {
     "output_type": "stream",
     "name": "stdout",
     "text": [
      "Hi I'm Sam\n",
      "I am elegible to vote\n"
     ]
    }
   ],
   "metadata": {}
  },
  {
   "cell_type": "code",
   "execution_count": 10,
   "source": [
    "# Classes e objetos em python\r\n",
    "class Person :\r\n",
    "\r\n",
    "    def __init__(self): #-> construtor\r\n",
    "            self.name=\"Sam\"\r\n",
    "            self.gender=\"Male\"\r\n",
    "            self.age=22\r\n",
    "\r\n",
    "    def talk(self) :#-> Comportamento da classe\r\n",
    "        print(\"Hi I'm\", self.name)\r\n",
    "    \r\n",
    "    def vote(self): #-> Outro comportamento da classe\r\n",
    "        if self.age<= 15 :\r\n",
    "            print(\"I am not elegible to vote\")\r\n",
    "        else :\r\n",
    "            print(\"I am elegible to vote\")\r\n",
    "    \r\n",
    "obj=Person() #-> Criando o objeto\r\n",
    "# ou podemos usar\r\n",
    "obj.talk()\r\n",
    "obj.vote()"
   ],
   "outputs": [
    {
     "output_type": "stream",
     "name": "stdout",
     "text": [
      "Hi I'm Sam\n",
      "I am elegible to vote\n"
     ]
    }
   ],
   "metadata": {}
  },
  {
   "cell_type": "code",
   "execution_count": 19,
   "source": [
    "# Classes e objetos em python\r\n",
    "class Person :\r\n",
    "\r\n",
    "    def __init__(self,n,g,a): #-> construtor\r\n",
    "            self.name=n\r\n",
    "            self.gender=g\r\n",
    "            self.age=a\r\n",
    "\r\n",
    "    def talk(self) :#-> Comportamento da classe\r\n",
    "        print(\"Hi I'm\", self.name)\r\n",
    "    \r\n",
    "    def vote(self): #-> Outro comportamento da classe\r\n",
    "        if self.age<= 15 :\r\n",
    "            print(\"I am not elegible to vote\")\r\n",
    "        else :\r\n",
    "            print(\"I am elegible to vote\")\r\n",
    "    \r\n",
    "obj1=Person(\"Sam\",\"Male\",22)\r\n",
    "obj2=Person(\"Jense\",\"Female\",15)\r\n",
    "\r\n",
    "# Agora vamos imprimir os objetos\r\n",
    "print(obj1.name,obj1.gender,obj1.age)\r\n",
    "print(obj2.name,obj2.gender,obj2.age)"
   ],
   "outputs": [
    {
     "output_type": "stream",
     "name": "stdout",
     "text": [
      "Sam Male 22\n",
      "Jense Female 15\n"
     ]
    }
   ],
   "metadata": {}
  },
  {
   "cell_type": "code",
   "execution_count": null,
   "source": [
    "# Classes e objetos em python\r\n",
    "class Person :\r\n",
    "\r\n",
    "    def __init__(self,n,g,a): #-> construtor\r\n",
    "            self.name=n\r\n",
    "            self.gender=g\r\n",
    "            self.age=a\r\n",
    "\r\n",
    "    def talk(self) :#-> Comportamento da classe\r\n",
    "        print(\"Hi I'm\", self.name)\r\n",
    "    \r\n",
    "    def vote(self): #-> Outro comportamento da classe\r\n",
    "        if self.age<= 15 :\r\n",
    "            print(\"I am not elegible to vote\")\r\n",
    "        else :\r\n",
    "            print(\"I am elegible to vote\")\r\n",
    "    \r\n",
    "obj1=Person(\"Sam\",\"Male\",22)\r\n",
    "obj2=Person(\"Jense\",\"Female\",15)\r\n",
    "\r\n",
    "obj1.talk()\r\n",
    "obj1.vote()\r\n",
    "\r\n",
    "obj2.talk()\r\n",
    "obj2.vote()"
   ],
   "outputs": [],
   "metadata": {}
  }
 ],
 "metadata": {
  "orig_nbformat": 4,
  "language_info": {
   "name": "python"
  }
 },
 "nbformat": 4,
 "nbformat_minor": 2
}