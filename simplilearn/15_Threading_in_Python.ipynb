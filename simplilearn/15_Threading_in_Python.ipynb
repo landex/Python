{
 "cells": [
  {
   "cell_type": "code",
   "execution_count": 2,
   "source": [
    "# threads\r\n",
    "\r\n",
    "# Importando thread\r\n",
    "from threading import *\r\n",
    "\r\n",
    "def show(): #-> Função\r\n",
    "    print(\"This is a child thread\")\r\n",
    "t = Thread(target=show())\r\n",
    "t.start()\r\n",
    "print(\"This is parent Thread\")"
   ],
   "outputs": [
    {
     "output_type": "stream",
     "name": "stdout",
     "text": [
      "This is a child thread\n",
      "This is parent Thread\n"
     ]
    }
   ],
   "metadata": {}
  },
  {
   "cell_type": "code",
   "execution_count": 6,
   "source": [
    "# outra forma de criar Thread\r\n",
    "from threading import *\r\n",
    "class MyThread(Thread) :\r\n",
    "    def run(self) :#-> Criando a função\r\n",
    "        for i in range(5):\r\n",
    "            print('This is a child class')\r\n",
    "\r\n",
    "t = MyThread()\r\n",
    "t.start()\r\n",
    "\r\n",
    "for i in range(5) :\r\n",
    "    print(\"\\nThis is the main thread\")"
   ],
   "outputs": [
    {
     "output_type": "stream",
     "name": "stdout",
     "text": [
      "This is a child class\n",
      "This is the main thread\n",
      "\n",
      "This is the main thread\n",
      "\n",
      "This is the main thread\n",
      "\n",
      "This is the main thread\n",
      "\n",
      "This is the main thread\n",
      "\n",
      "This is a child class\n",
      "This is a child class\n",
      "This is a child class\n",
      "This is a child class\n"
     ]
    }
   ],
   "metadata": {}
  },
  {
   "cell_type": "code",
   "execution_count": 6,
   "source": [
    "# Extendendo a classe Thread\r\n",
    "from threading import *\r\n",
    "class Demo:\r\n",
    "    def show(self):\r\n",
    "        for i in range(5):\r\n",
    "            print('\\nThis is the child thread')\r\n",
    "\r\n",
    "obj=Demo()\r\n",
    "t=Thread(target=obj.show())\r\n",
    "t.start\r\n",
    "\r\n",
    "for i in range(5):\r\n",
    "    print(\"\\n This is parent thread\")"
   ],
   "outputs": [
    {
     "output_type": "stream",
     "name": "stdout",
     "text": [
      "\n",
      "This is the child thread\n",
      "\n",
      "This is the child thread\n",
      "\n",
      "This is the child thread\n",
      "\n",
      "This is the child thread\n",
      "\n",
      "This is the child thread\n",
      "\n",
      " This is parent thread\n",
      "\n",
      " This is parent thread\n",
      "\n",
      " This is parent thread\n",
      "\n",
      " This is parent thread\n",
      "\n",
      " This is parent thread\n"
     ]
    }
   ],
   "metadata": {}
  },
  {
   "cell_type": "code",
   "execution_count": 17,
   "source": [
    "# Extendendo a classe Thread\r\n",
    "from threading import *\r\n",
    "class Demo:\r\n",
    "    def show(self):\r\n",
    "        for i in range(5):\r\n",
    "            print('\\nThis is the child thread',i+1)\r\n",
    "\r\n",
    "obj=Demo()\r\n",
    "t=Thread(target=obj.show())\r\n",
    "t.start\r\n",
    "\r\n",
    "for i in range(5):\r\n",
    "    print('\\n This is parent thread', i+1)"
   ],
   "outputs": [
    {
     "output_type": "stream",
     "name": "stdout",
     "text": [
      "\n",
      "This is the child thread 1\n",
      "\n",
      "This is the child thread 2\n",
      "\n",
      "This is the child thread 3\n",
      "\n",
      "This is the child thread 4\n",
      "\n",
      "This is the child thread 5\n",
      "\n",
      " This is parent thread 1\n",
      "\n",
      " This is parent thread 2\n",
      "\n",
      " This is parent thread 3\n",
      "\n",
      " This is parent thread 4\n",
      "\n",
      " This is parent thread 5\n"
     ]
    }
   ],
   "metadata": {}
  },
  {
   "cell_type": "code",
   "execution_count": 22,
   "source": [
    "# Multithreading\r\n",
    "# Compartilhando recursos entre os processos.\r\n",
    "from threading import *\r\n",
    "import time\r\n",
    "\r\n",
    "class Demo:\r\n",
    "    def num(self):\r\n",
    "        for i in range(1,6):\r\n",
    "            print('\\nThe number is', i)\r\n",
    "            time.sleep(0.5)\r\n",
    "    def double(self):\r\n",
    "        for i in range(1,6):\r\n",
    "            print('\\nThe double of the number is', 2*i)\r\n",
    "            time.sleep(0.5)\r\n",
    "\r\n",
    "    def square(self):\r\n",
    "        for i in range(1,6):\r\n",
    "            print('\\nThe square of the number is', i*i)\r\n",
    "            time.sleep(0.5)\r\n",
    "\r\n",
    "# Criando um objeto da classe demo\r\n",
    "obj=Demo()\r\n",
    "# Criando as threads\r\n",
    "th1=Thread(target=obj.num)\r\n",
    "th2=Thread(target=obj.double)\r\n",
    "th3=Thread(target=obj.square)\r\n",
    "\r\n",
    "th1.start()\r\n",
    "time.sleep(0.2)\r\n",
    "th2.start()\r\n",
    "time.sleep(0.2)\r\n",
    "th3.start()\r\n",
    "\r\n",
    "th1.join()\r\n",
    "th2.join()\r\n",
    "th2.join()\r\n",
    "\r\n",
    "print('\\nThis is the main Thread')\r\n"
   ],
   "outputs": [
    {
     "output_type": "stream",
     "name": "stdout",
     "text": [
      "\n",
      "The number is 1\n",
      "\n",
      "The double of the number is 2\n",
      "\n",
      "The number is 2\n",
      "\n",
      "The square of the number is 1\n",
      "\n",
      "The double of the number is 4\n",
      "\n",
      "The number is 3\n",
      "\n",
      "The square of the number is 4\n",
      "\n",
      "The double of the number is 6\n",
      "\n",
      "The number is 4\n",
      "\n",
      "The square of the number is 9\n",
      "\n",
      "The double of the number is 8\n",
      "\n",
      "The number is 5\n",
      "\n",
      "The square of the number is 16\n",
      "\n",
      "The double of the number is 10\n",
      "\n",
      "The square of the number is 25\n",
      "\n",
      "This is the main Thread\n"
     ]
    }
   ],
   "metadata": {}
  }
 ],
 "metadata": {
  "orig_nbformat": 4,
  "language_info": {
   "name": "python",
   "version": "3.9.6",
   "mimetype": "text/x-python",
   "codemirror_mode": {
    "name": "ipython",
    "version": 3
   },
   "pygments_lexer": "ipython3",
   "nbconvert_exporter": "python",
   "file_extension": ".py"
  },
  "kernelspec": {
   "name": "python3",
   "display_name": "Python 3.9.6 64-bit"
  },
  "interpreter": {
   "hash": "ad0535b952be1423b26732a49bfe6acbb13cf85c02af98c1eb35a3250f3735c6"
  }
 },
 "nbformat": 4,
 "nbformat_minor": 2
}