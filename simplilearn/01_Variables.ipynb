{
 "cells": [
  {
   "cell_type": "code",
   "execution_count": 2,
   "source": [
    "# Atribuição de variável simples\r\n",
    "x=1001\r\n",
    "print(x)\r\n",
    "# Mostrando o tipo da variável\r\n",
    "type(x)"
   ],
   "outputs": [
    {
     "output_type": "stream",
     "name": "stdout",
     "text": [
      "1001\n"
     ]
    },
    {
     "output_type": "execute_result",
     "data": {
      "text/plain": [
       "int"
      ]
     },
     "metadata": {},
     "execution_count": 2
    }
   ],
   "metadata": {}
  },
  {
   "cell_type": "code",
   "execution_count": 3,
   "source": [
    "# Variável o tipo float\r\n",
    "x=5.88\r\n",
    "print(x)\r\n",
    "# Mostrando que o tipo de variável é float\r\n",
    "type(x)"
   ],
   "outputs": [
    {
     "output_type": "stream",
     "name": "stdout",
     "text": [
      "5.88\n"
     ]
    },
    {
     "output_type": "execute_result",
     "data": {
      "text/plain": [
       "float"
      ]
     },
     "metadata": {},
     "execution_count": 3
    }
   ],
   "metadata": {}
  },
  {
   "cell_type": "code",
   "execution_count": 6,
   "source": [
    "# Variável do tipo string\n",
    "x='Olá Tudo Bem'\n",
    "y=\"Hello World!!!\"\n",
    "print(x)\n",
    "print(y)\n",
    "# Mostrando os tipos das variáveis\n",
    "type(x)\n",
    "type(y)"
   ],
   "outputs": [
    {
     "output_type": "stream",
     "name": "stdout",
     "text": [
      "Olá Tudo Bem\n",
      "Hello World!!!\n"
     ]
    },
    {
     "output_type": "execute_result",
     "data": {
      "text/plain": [
       "str"
      ]
     },
     "metadata": {},
     "execution_count": 6
    }
   ],
   "metadata": {}
  },
  {
   "cell_type": "code",
   "execution_count": 10,
   "source": [
    "# Lista é uma coleção de valores\n",
    "# Abaixo temos a coleção de valores\n",
    "list=[14,67,9]\n",
    "print(list)\n",
    "# Vendo o tipo da variável, que é uma lista\n",
    "type(list)\n",
    "# Os valores da lista são armazenados em um index\n",
    "# Para imprimir o valor de acordo com o index\n",
    "print(list[0]) # Imprimindo o valor do index 0 = 14\n",
    "print(list[2]) # Imprimindo o valor do index 2 = 9\n",
    "# Trocando o valor de um index\n",
    "list[2]=66 # Indicando que no index 2 o novo valor vai ser 66 em vez de 9\n",
    "print(list)"
   ],
   "outputs": [
    {
     "output_type": "stream",
     "name": "stdout",
     "text": [
      "[14, 67, 9]\n",
      "14\n",
      "9\n",
      "[14, 67, 66]\n"
     ]
    }
   ],
   "metadata": {}
  },
  {
   "cell_type": "code",
   "execution_count": 12,
   "source": [
    "# Um novo tipo de dado chamado typle\n",
    "tuple=(0,2,4,6,8) #-> Inserindo dados na tupla\n",
    "type(tuple) #-> Informando o tipo do dado que é Tuple\n",
    "print(tuple)"
   ],
   "outputs": [
    {
     "output_type": "stream",
     "name": "stdout",
     "text": [
      "(0, 2, 4, 6, 8)\n"
     ]
    }
   ],
   "metadata": {}
  },
  {
   "cell_type": "code",
   "execution_count": 17,
   "source": [
    "# Agora vamos fazer uma operação com arquivos em python\n",
    "file=open('C:\\\\Users\\\\landi\\\\Documents\\\\Programming\\\\python\\\\simplilearn\\\\01_Variables.ipynb','r')\n",
    "# Mostrando o tipo de arquivo que neste caso é _io.TextIOWrapper\n",
    "type(file)"
   ],
   "outputs": [
    {
     "output_type": "execute_result",
     "data": {
      "text/plain": [
       "_io.TextIOWrapper"
      ]
     },
     "metadata": {},
     "execution_count": 17
    }
   ],
   "metadata": {}
  },
  {
   "cell_type": "code",
   "execution_count": 18,
   "source": [
    "# Atribuição de variavel em uma lista\n",
    "(x,y,z)=5,10,7\n",
    "print(x)\n",
    "print(y)\n",
    "print(z)\n"
   ],
   "outputs": [
    {
     "output_type": "stream",
     "name": "stdout",
     "text": [
      "5\n",
      "10\n",
      "7\n"
     ]
    }
   ],
   "metadata": {}
  },
  {
   "cell_type": "code",
   "execution_count": 19,
   "source": [
    "# Definido os nomes das variáveis\n",
    "# A Variável não pode começar com número ou caracter especial, mas pode ter número a partir da segunda letra\n",
    "# Também não é bom utilizar palavras reservadas do sistema\n",
    "# As variáveis são case sensitive\n"
   ],
   "outputs": [
    {
     "output_type": "error",
     "ename": "SyntaxError",
     "evalue": "invalid syntax (Temp/ipykernel_23796/3673206908.py, line 5)",
     "traceback": [
      "\u001b[1;36m  File \u001b[1;32m\"C:\\Users\\landi\\AppData\\Local\\Temp/ipykernel_23796/3673206908.py\"\u001b[1;36m, line \u001b[1;32m5\u001b[0m\n\u001b[1;33m    3iii=1 #-> Não é uma variável válida\u001b[0m\n\u001b[1;37m     ^\u001b[0m\n\u001b[1;31mSyntaxError\u001b[0m\u001b[1;31m:\u001b[0m invalid syntax\n"
     ]
    }
   ],
   "metadata": {}
  },
  {
   "cell_type": "code",
   "execution_count": 27,
   "source": [
    "# Operadores matemáticos em python\n",
    "x=20\n",
    "y=10\n",
    "\n",
    "# Soma\n",
    "result_sum=x+y\n",
    "print(result_sum)\n",
    "\n",
    "# Subtração\n",
    "result_minus=x-y\n",
    "print(result_minus)\n",
    "\n",
    "# Multiplicação\n",
    "result_mult=x*y\n",
    "print(result_mult)\n",
    "\n",
    "# Divisão, vai dividir o da esquerda com o da direita e vai retornar em ponto flutuante o resultado\n",
    "result_division=x/y\n",
    "print(result_division)\n",
    "\n",
    "# Divisão // vai dividir o da esquerda com o da direita e vai truncar se for float\n",
    "result_division_2=x//y\n",
    "print(result_division_2)\n",
    "\n"
   ],
   "outputs": [
    {
     "output_type": "stream",
     "name": "stdout",
     "text": [
      "30\n",
      "10\n",
      "200\n",
      "2.0\n",
      "2\n"
     ]
    }
   ],
   "metadata": {}
  },
  {
   "cell_type": "code",
   "execution_count": 36,
   "source": [
    "# Operrações com string\n",
    "# A string é guardado como se fosse um array e indexada\n",
    "name=\"LandiLeite\"\n",
    "# Para imprimir de primeiro caracter\n",
    "print(name[0]) #-> Vai imprimir o primeiro caracter\n",
    "print(name[4]) #-> Vai imprimir o quinto caracter\n",
    "print(name[0:5]) # Vai imprimir entre a posição 0 e a posição 5\n",
    "print(name[5])\n",
    "print(name[5:])\n",
    "\n",
    "# Para verificar o tamanho de uma string\n",
    "len(name) #-> Mostra o tamanho da string\n"
   ],
   "outputs": [
    {
     "output_type": "stream",
     "name": "stdout",
     "text": [
      "L\n",
      "i\n",
      "Landi\n",
      "L\n",
      "Leite\n"
     ]
    },
    {
     "output_type": "execute_result",
     "data": {
      "text/plain": [
       "10"
      ]
     },
     "metadata": {},
     "execution_count": 36
    }
   ],
   "metadata": {}
  }
 ],
 "metadata": {
  "kernelspec": {
   "name": "python3",
   "display_name": "Python 3.9.7 64-bit"
  },
  "language_info": {
   "codemirror_mode": {
    "name": "ipython",
    "version": 3
   },
   "file_extension": ".py",
   "mimetype": "text/x-python",
   "name": "python",
   "nbconvert_exporter": "python",
   "pygments_lexer": "ipython3",
   "version": "3.9.7"
  },
  "interpreter": {
   "hash": "40686682bf9f45d9b5df93f0d161b89f2e801a55e09a1864834a98ccaacb6bcf"
  }
 },
 "nbformat": 4,
 "nbformat_minor": 5
}