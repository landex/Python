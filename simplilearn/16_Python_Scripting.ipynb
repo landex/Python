{
 "cells": [
  {
   "cell_type": "code",
   "execution_count": 28,
   "source": [
    "# Python Scriptiong\r\n",
    "# Scripts para automatizar tarefas\r\n",
    "# Library os, para operações no sistema operacional\r\n",
    "import os #-> Importando a biblioteca que trabalha com o Sistema Operacional\r\n",
    "\r\n",
    "def current_directory () :\r\n",
    "    cwd=os.getcwd()\r\n",
    "    print('The curent directory is', cwd)\r\n",
    "\r\n",
    "current_directory()\r\n"
   ],
   "outputs": [
    {
     "output_type": "stream",
     "name": "stdout",
     "text": [
      "The curent directory is c:\\Users\\landi\\Documents\\Programming\\python\\simplilearn\n"
     ]
    }
   ],
   "metadata": {}
  },
  {
   "cell_type": "code",
   "execution_count": 29,
   "source": [
    "# Vamos criar uma função que pega um arquivo\r\n",
    "def file_path(filename):\r\n",
    "    path=os.path.abspath(filename)\r\n",
    "    print('The path of file is', path)\r\n",
    "\r\n",
    "current_directory()\r\n",
    "filename='sample.txt'\r\n",
    "file_path(filename)"
   ],
   "outputs": [
    {
     "output_type": "stream",
     "name": "stdout",
     "text": [
      "The curent directory is c:\\Users\\landi\\Documents\\Programming\\python\\simplilearn\n",
      "The path of file is c:\\Users\\landi\\Documents\\Programming\\python\\simplilearn\\sample.txt\n"
     ]
    }
   ],
   "metadata": {}
  },
  {
   "cell_type": "code",
   "execution_count": 30,
   "source": [
    "import time #-> trabalhando com tempo\r\n",
    "\r\n",
    "epc=time.time()\r\n",
    "print(epc) # Vamis mostrar o tempo sem segundos\r\n",
    "\r\n",
    "# Vamos mostrar\r\n",
    "localime=time.localtime(epc)\r\n",
    "print(localime)\r\n",
    "print(localime.tm_year)\r\n",
    "print(time.ctime(epc))\r\n"
   ],
   "outputs": [
    {
     "output_type": "stream",
     "name": "stdout",
     "text": [
      "1629402751.7214751\n",
      "time.struct_time(tm_year=2021, tm_mon=8, tm_mday=19, tm_hour=16, tm_min=52, tm_sec=31, tm_wday=3, tm_yday=231, tm_isdst=0)\n",
      "2021\n",
      "Thu Aug 19 16:52:31 2021\n"
     ]
    }
   ],
   "metadata": {}
  },
  {
   "cell_type": "code",
   "execution_count": 17,
   "source": [
    "# Procolo de email\r\n",
    "import smtplib\r\n",
    "\r\n",
    "smtObj=smtplib.SMTP('smtp.gmail.com', 587)\r\n",
    "smtObj.ehlo()\r\n",
    "smtObj.starttls()\r\n",
    "smtObj.login('luluquenjr@gmail.com','C4z4qu1st40')\r\n",
    "smtObj.sendmail(\"lulujunquerjr@gmail.com\",\"jose.nunes@netcracker.com\",'Subject: Pangare!!. ','\\nHello')\r\n",
    "#smtObj.sendmail(from_addr='lulujunquerjr',to_addrs='jose.nunes@netcracker.com',msg='\\n E ae Nunes Bonitaum , tudo bem com vc? Quanto tempo gatu vamos tc???')\r\n",
    "smtObj.quit()\r\n"
   ],
   "outputs": [
    {
     "output_type": "execute_result",
     "data": {
      "text/plain": [
       "(221, b'2.0.0 closing connection o13sm3135373pjq.7 - gsmtp')"
      ]
     },
     "metadata": {},
     "execution_count": 17
    }
   ],
   "metadata": {}
  },
  {
   "cell_type": "code",
   "execution_count": null,
   "source": [
    "# Criando um arquivo\r\n",
    "from os import path\r\n",
    "\r\n",
    "def createFile(dest):\r\n",
    "    if not (path.isfile(dest)):\r\n",
    "        f=open(dest,'w')\r\n",
    "        f.write(\"Welcome to Python Scripting\")\r\n",
    "        f.close\r\n",
    "\r\n",
    "dest=\"C:\\\\Users\\\\landi\\\\Documents\\\\Programming\\\\python\\\\simplilearn\\\\sample1.txt\"\r\n",
    "\r\n",
    "createFile(dest)\r\n",
    "\r\n",
    "print(\"File created\")"
   ],
   "outputs": [
    {
     "output_type": "stream",
     "name": "stdout",
     "text": [
      "File created\n"
     ]
    }
   ],
   "metadata": {}
  },
  {
   "cell_type": "code",
   "execution_count": 12,
   "source": [
    "def func1(*args,**kwargs):\r\n",
    "    for i in kwargs.items():\r\n",
    "        print(i)\r\n",
    "\r\n",
    "func1(a=10,b=20,c=30,d=40)"
   ],
   "outputs": [
    {
     "output_type": "stream",
     "name": "stdout",
     "text": [
      "('a', 10)\n",
      "('b', 20)\n",
      "('c', 30)\n",
      "('d', 40)\n"
     ]
    }
   ],
   "metadata": {}
  },
  {
   "cell_type": "code",
   "execution_count": 13,
   "source": [
    "# Criando uma função ninhada, que é uma função dentro da outra\r\n",
    "def func1():\r\n",
    "    x=10\r\n",
    "    def func2(x):\r\n",
    "        return x+1\r\n",
    "    return func2(x)\r\n",
    "\r\n",
    "result=func1()\r\n",
    "print(result)\r\n"
   ],
   "outputs": [
    {
     "output_type": "stream",
     "name": "stdout",
     "text": [
      "11\n"
     ]
    }
   ],
   "metadata": {}
  },
  {
   "cell_type": "code",
   "execution_count": 15,
   "source": [
    "def func1(called_func):\r\n",
    "    print(\"This is the first function\")\r\n",
    "    def nested_func1(called_func):\r\n",
    "        print(\"This is the nested function\")\r\n",
    "        called_func()\r\n",
    "    return nested_func1(called_func)\r\n",
    "\r\n",
    "def other_func():\r\n",
    "    print(\"This is the other function\")\r\n",
    "\r\n",
    "obj=func1(other_func)"
   ],
   "outputs": [
    {
     "output_type": "stream",
     "name": "stdout",
     "text": [
      "This is the first function\n",
      "This is the nested function\n",
      "This is the other function\n"
     ]
    }
   ],
   "metadata": {}
  },
  {
   "cell_type": "code",
   "execution_count": null,
   "source": [
    "# Factory ou Fábrica\r\n",
    "B=type(\"BaseClass\", (object,),{})\r\n",
    "C1=type{\"C1\", (B,), ('val':5})"
   ],
   "outputs": [],
   "metadata": {}
  }
 ],
 "metadata": {
  "orig_nbformat": 4,
  "language_info": {
   "name": "python",
   "version": "3.9.6",
   "mimetype": "text/x-python",
   "codemirror_mode": {
    "name": "ipython",
    "version": 3
   },
   "pygments_lexer": "ipython3",
   "nbconvert_exporter": "python",
   "file_extension": ".py"
  },
  "kernelspec": {
   "name": "python3",
   "display_name": "Python 3.9.6 64-bit"
  },
  "interpreter": {
   "hash": "ad0535b952be1423b26732a49bfe6acbb13cf85c02af98c1eb35a3250f3735c6"
  }
 },
 "nbformat": 4,
 "nbformat_minor": 2
}