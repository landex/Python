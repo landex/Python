{
 "cells": [
  {
   "cell_type": "code",
   "execution_count": 18,
   "id": "b046652f-a41f-44fd-983b-8f5b91663983",
   "metadata": {},
   "outputs": [
    {
     "name": "stdout",
     "output_type": "stream",
     "text": [
      "1 4.2 Simplilearn\n",
      "1\n",
      "4.2\n",
      "Simplilearn\n",
      "S\n",
      "i\n",
      "m\n",
      "p\n",
      "l\n",
      "i\n",
      "l\n",
      "e\n",
      "a\n",
      "r\n",
      "n\n",
      "Simplilearn"
     ]
    }
   ],
   "source": [
    "# Mais aulas sobre o loop for\n",
    "# Vamos criar uma lista\n",
    "list_x=[1,4.2, \"Simplilearn\"]\n",
    "print(list_x[0],list_x[1],list_x[2]) #-> Vai imprimir na ordem todos os elementos da lista\n",
    "\n",
    "# Agora vamos utilizar o for\n",
    "list_x=[1,4.2, \"Simplilearn\"]\n",
    "for i in list_x: # Desta forma não precisa repetir, o for faz isso\n",
    "    print(i)\n",
    "\n",
    "# Agora um loop for para fazer um split da string\n",
    "string_x = \"Simplilearn\"\n",
    "for i in string_x:\n",
    "    print(i)\n",
    "\n",
    "# Para imprimir junto, lembrando que uma string é um array\n",
    "string_x = \"Simplilearn\"\n",
    "for i in string_x:\n",
    "    print(i, end='')"
   ]
  },
  {
   "cell_type": "code",
   "execution_count": 23,
   "id": "eedb8f63-6b06-4558-ae9f-da5e59df665b",
   "metadata": {},
   "outputs": [
    {
     "name": "stdout",
     "output_type": "stream",
     "text": [
      "0\n",
      "1\n",
      "2\n",
      "3\n",
      "4\n",
      "5\n",
      "6\n",
      "7\n",
      "8\n",
      "9\n",
      "10\n",
      "11\n",
      "12\n",
      "13\n",
      "14\n",
      "15\n",
      "16\n",
      "17\n",
      "18\n",
      "19\n",
      "20\n",
      "0\n",
      "2\n",
      "4\n",
      "6\n",
      "8\n",
      "10\n",
      "12\n",
      "14\n",
      "16\n",
      "18\n",
      "20\n",
      "0\n",
      "3\n",
      "6\n",
      "9\n",
      "12\n",
      "15\n",
      "18\n",
      "21\n"
     ]
    }
   ],
   "source": [
    "# For em uma linha\n",
    "for i in range(0,21): #-> Vai imprimir os valores de 0 até 21\n",
    "    print(i)\n",
    "\n",
    "# podemos mudar o range\n",
    "for i in range(0,21,2): #-> Desta forma vai imprimir os multiplos de 2\n",
    "    print(i)\n",
    "\n",
    "# podemos mudar o range\n",
    "for i in range(0,21,3): #-> Desta forma vai imprimir os multiplos de 3\n",
    "    print(i)"
   ]
  },
  {
   "cell_type": "code",
   "execution_count": 39,
   "id": "05e3fb03-70df-443a-bebb-ae67f1844ec4",
   "metadata": {},
   "outputs": [
    {
     "name": "stdout",
     "output_type": "stream",
     "text": [
      "0+2+4+6+8+10+12+14+16+18+20+= 110\n"
     ]
    }
   ],
   "source": [
    "# Podemos usar o if\n",
    "# podemos mudar o range\n",
    "sum=0\n",
    "for i in range(0,21): \n",
    "    if i%2==0: #-> Verificar se é um divisor por 2\n",
    "        print(i, end='+') # Vamos imprimir os números pares\n",
    "        sum=sum+i #-> Com isso vai somar todos os números pares do loop\n",
    "print(\"=\",sum)"
   ]
  },
  {
   "cell_type": "code",
   "execution_count": 44,
   "id": "52a589d6-91c0-4ee9-986c-ade2f0ed8215",
   "metadata": {},
   "outputs": [
    {
     "name": "stdin",
     "output_type": "stream",
     "text": [
      "Enter a number 12\n"
     ]
    },
    {
     "name": "stdout",
     "output_type": "stream",
     "text": [
      "1\n",
      "12\n",
      "123\n",
      "1234\n",
      "12345\n",
      "123456\n",
      "1234567\n",
      "12345678\n",
      "123456789\n",
      "12345678910\n",
      "1234567891011\n",
      "123456789101112\n"
     ]
    }
   ],
   "source": [
    "# Agora com input e com um loop for dentro de outro loop for\n",
    "number=int(input(\"Enter a number\"))\n",
    "for i in range (1,number+1):\n",
    "    for j in range(1,i+1):# Tem que incrementar pois começa com 0 ai com +1 começa a contar do 1\n",
    "        print(j,end='')\n",
    "    print()"
   ]
  },
  {
   "cell_type": "code",
   "execution_count": 53,
   "id": "cf044c32-4880-483d-9ee5-6b3c0cd27aa2",
   "metadata": {},
   "outputs": [
    {
     "name": "stdin",
     "output_type": "stream",
     "text": [
      "Enter number of rows 2\n",
      "Enter number of colomns 2\n",
      "Enter the 0 * 0 element 1\n",
      "Enter the 0 * 1 element 2\n",
      "Enter the 1 * 0 element 3\n",
      "Enter the 1 * 1 element 4\n",
      "Enter the 0 * 0 element 5\n",
      "Enter the 0 * 1 element 6\n",
      "Enter the 1 * 0 element 7\n",
      "Enter the 1 * 1 element 8\n"
     ]
    },
    {
     "name": "stdout",
     "output_type": "stream",
     "text": [
      "[[6, 8], [10, 12]]\n"
     ]
    }
   ],
   "source": [
    "rows=int(input(\"Enter number of rows\"))\n",
    "colomns=int(input(\"Enter number of colomns\"))\n",
    "x=[]\n",
    "val=[]\n",
    "for i in range(0,rows): #-> Vamos inserir um range, um indica que começa com 0\n",
    "    for j in range(0,colomns):\n",
    "        val.insert(j,int(input(\"Enter the %d * %d element\" %(i,j))))#-> Tem que adicionar um int para guardar como número\n",
    "    x.insert(i,val)\n",
    "    val=[]\n",
    "\n",
    "y=[]\n",
    "for i in range(0,rows):\n",
    "    for j in range(0,colomns):\n",
    "        val.insert(j,int(input(\"Enter the %d * %d element\" %(i,j)))) #-> Tem que adicionar um int para guardar como número\n",
    "    y.insert(i,val)\n",
    "    val=[]\n",
    "sum=[]\n",
    "\n",
    "for i in range(0,rows):\n",
    "    for j in range(0,colomns):\n",
    "        val.insert(j, x[i][j]+y[i][j])\n",
    "    sum.insert(i,val)\n",
    "    val=[]\n",
    "print(sum)"
   ]
  }
 ],
 "metadata": {
  "kernelspec": {
   "display_name": "Python 3 (ipykernel)",
   "language": "python",
   "name": "python3"
  },
  "language_info": {
   "codemirror_mode": {
    "name": "ipython",
    "version": 3
   },
   "file_extension": ".py",
   "mimetype": "text/x-python",
   "name": "python",
   "nbconvert_exporter": "python",
   "pygments_lexer": "ipython3",
   "version": "3.9.6"
  }
 },
 "nbformat": 4,
 "nbformat_minor": 5
}
