{
 "cells": [
  {
   "cell_type": "code",
   "execution_count": 7,
   "source": [
    "# Aprendendo NumPy\r\n",
    "# Biblioteca cientifca de números e tem boa performance com arrays dimensionaos\r\n",
    "import numpy as np\r\n",
    "new_array=np.array([1,2,3])\r\n",
    "print(new_array)\r\n",
    "# Mostrando uma posição do array\r\n",
    "print(new_array[0])\r\n",
    "print(new_array[1])"
   ],
   "outputs": [
    {
     "output_type": "stream",
     "name": "stdout",
     "text": [
      "[1 2 3]\n",
      "1\n",
      "2\n"
     ]
    }
   ],
   "metadata": {}
  },
  {
   "cell_type": "code",
   "execution_count": 20,
   "source": [
    "#\r\n",
    "import time\r\n",
    "import sys\r\n",
    "b=range(1000)\r\n",
    "print(sys.getsizeof(5)*len(b))\r\n",
    "c = np.arange(1000)\r\n",
    "print(c.size*c.itemsize)\r\n",
    "size = 100000\r\n",
    "L1 = range(size)\r\n",
    "L2 = range(size)\r\n",
    "A1 = np.arange(size)\r\n",
    "A2 = np.arange(size)\r\n",
    "start = time.time()\r\n",
    "result = [(x+y) for x,y in zip(L1, L2)]\r\n",
    "print('python list took:' ,(time.time()-start)*1000)\r\n",
    "#print(result)"
   ],
   "outputs": [
    {
     "output_type": "stream",
     "name": "stdout",
     "text": [
      "28000\n",
      "4000\n",
      "python list took: 9.517431259155273\n"
     ]
    }
   ],
   "metadata": {}
  },
  {
   "cell_type": "code",
   "execution_count": 28,
   "source": [
    "a = np.array([[1,2],[3,4],[5,6]])\r\n",
    "print(a)\r\n",
    "print(a.ndim)\r\n",
    "print(a.itemsize)\r\n",
    "print(a.shape)"
   ],
   "outputs": [
    {
     "output_type": "stream",
     "name": "stdout",
     "text": [
      "[[1 2]\n",
      " [3 4]\n",
      " [5 6]]\n",
      "2\n",
      "4\n",
      "(3, 2)\n"
     ]
    }
   ],
   "metadata": {}
  },
  {
   "cell_type": "code",
   "execution_count": 21,
   "source": [
    "start = time.time()\r\n",
    "result = A1 + A2\r\n",
    "print(\"Numpy array took:\", (time.time()-start)*1000)"
   ],
   "outputs": [
    {
     "output_type": "stream",
     "name": "stdout",
     "text": [
      "Numpy array took: 2.067089080810547\n"
     ]
    }
   ],
   "metadata": {}
  },
  {
   "cell_type": "code",
   "execution_count": 42,
   "source": [
    "a = np.array([[1,2],[3,4],[5,6]], dtype=np.float64)\r\n",
    "print(a)\r\n",
    "print(a.itemsize)\r\n",
    "print(a.shape)"
   ],
   "outputs": [
    {
     "output_type": "stream",
     "name": "stdout",
     "text": [
      "[[1. 2.]\n",
      " [3. 4.]\n",
      " [5. 6.]]\n",
      "8\n",
      "(3, 2)\n"
     ]
    }
   ],
   "metadata": {}
  },
  {
   "cell_type": "code",
   "execution_count": 47,
   "source": [
    "a = np.array([[1,2],[3,4],[5,6]], dtype=np.cdouble)\r\n",
    "print(a)"
   ],
   "outputs": [
    {
     "output_type": "stream",
     "name": "stdout",
     "text": [
      "[[1.+0.j 2.+0.j]\n",
      " [3.+0.j 4.+0.j]\n",
      " [5.+0.j 6.+0.j]]\n"
     ]
    }
   ],
   "metadata": {}
  },
  {
   "cell_type": "code",
   "execution_count": 50,
   "source": [
    "print(np.zeros((3,4))) #-> Cria arrays com zeros\r\n",
    "print(np.ones((2,5)))"
   ],
   "outputs": [
    {
     "output_type": "stream",
     "name": "stdout",
     "text": [
      "[[0. 0. 0. 0.]\n",
      " [0. 0. 0. 0.]\n",
      " [0. 0. 0. 0.]]\n",
      "[[1. 1. 1. 1. 1.]\n",
      " [1. 1. 1. 1. 1.]]\n"
     ]
    }
   ],
   "metadata": {}
  },
  {
   "cell_type": "code",
   "execution_count": 55,
   "source": [
    "l=range(5)\r\n",
    "print(l)\r\n",
    "np.arange(5)"
   ],
   "outputs": [
    {
     "output_type": "stream",
     "name": "stdout",
     "text": [
      "range(0, 5)\n"
     ]
    },
    {
     "output_type": "execute_result",
     "data": {
      "text/plain": [
       "array([0, 1, 2, 3, 4])"
      ]
     },
     "metadata": {},
     "execution_count": 55
    }
   ],
   "metadata": {}
  },
  {
   "cell_type": "code",
   "execution_count": 87,
   "source": [
    "print('concatenate example:')\r\n",
    "print(np.char.add(['hello','hi'], ['abc','xyz'])) #-> Concatena\r\n",
    "print(np.char.center('Hello', 19,fillchar = '*')) #-> Completa os espaços de acordo com a quantidade\r\n",
    "print(np.char.capitalize(\"hey ho let's go\")) #-> Adiciona maiúsculo no inicio da frase\r\n",
    "print(np.char.title('hey ho let\\'s go')) #-> Deixa como titulo\r\n",
    "print(np.char.lower(\"HELLO\")) #-> Transforma tudo em minúsculo\r\n",
    "print(np.char.upper('python is easy')) #-> Deixa tudo maiúsculo\r\n",
    "print(np.char.split('Hello the new World')) #-> Faz os splits das palavras\r\n",
    "print(np.char.strip(['Nina','admin','Anita'], 'a')) #-> Remove a letra\r\n",
    "print(np.char.replace(\"He is a good dance\", 'is', 'was'))"
   ],
   "outputs": [
    {
     "output_type": "stream",
     "name": "stdout",
     "text": [
      "concatenate example:\n",
      "['helloabc' 'hixyz']\n",
      "*******Hello*******\n",
      "Hey ho let's go\n",
      "Hey Ho Let'S Go\n",
      "hello\n",
      "PYTHON IS EASY\n",
      "['Hello', 'the', 'new', 'World']\n",
      "['Nin' 'dmin' 'Anit']\n",
      "He was a good dance\n"
     ]
    }
   ],
   "metadata": {}
  }
 ],
 "metadata": {
  "orig_nbformat": 4,
  "language_info": {
   "name": "python",
   "version": "3.9.6",
   "mimetype": "text/x-python",
   "codemirror_mode": {
    "name": "ipython",
    "version": 3
   },
   "pygments_lexer": "ipython3",
   "nbconvert_exporter": "python",
   "file_extension": ".py"
  },
  "kernelspec": {
   "name": "python3",
   "display_name": "Python 3.9.6 64-bit"
  },
  "interpreter": {
   "hash": "ad0535b952be1423b26732a49bfe6acbb13cf85c02af98c1eb35a3250f3735c6"
  }
 },
 "nbformat": 4,
 "nbformat_minor": 2
}